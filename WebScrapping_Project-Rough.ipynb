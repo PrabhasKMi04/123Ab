{
 "cells": [
  {
   "cell_type": "code",
   "execution_count": 1,
   "id": "54de4534",
   "metadata": {},
   "outputs": [],
   "source": [
    "\n",
    "import requests # It allows you to send HTTP requests \n",
    "\n",
    "# Beautifulsooup :It helps in  pulling the data out of HTML and XML files. It creates a parse tree from page source code that can be used to extract data in a hierarchical and more readable manner.\n",
    "import bs4\n",
    "from bs4 import BeautifulSoup as bs \n",
    "\n",
    "# Panadas package will be for Data anaylsis of extracted data from the web\n",
    "\n",
    "import pandas as pd\n"
   ]
  },
  {
   "cell_type": "markdown",
   "id": "70a56d11",
   "metadata": {},
   "source": [
    "##### To fetch the required data need to enter the URL . Requests library is used to make html requests to the server."
   ]
  },
  {
   "cell_type": "code",
   "execution_count": 2,
   "id": "9658385b",
   "metadata": {},
   "outputs": [],
   "source": [
    "\n",
    "link = 'https://www.flipkart.com/mobiles/pr?sid=tyy,4io&otracker=categorytree'"
   ]
  },
  {
   "cell_type": "code",
   "execution_count": 3,
   "id": "275a0dcd",
   "metadata": {},
   "outputs": [],
   "source": [
    "link = 'https://www.flipkart.com/realme-c25y-metal-grey-64-gb/p/itm14ec0239363bc?pid=MOBG7984TB3SBGAG&lid=LSTMOBG7984TB3SBGAGDJJCDU&marketplace=FLIPKART&store=tyy%2F4io&srno=b_1_1&otracker=categorytre&fm=organic&iid=fc28b2ec-48e8-4989-a134-71465f64abd5.MOBG7984TB3SBGAG.SEARCH&ppt=None&ppn=None&ssid=tn0tu5rf400000001640164328340ee'"
   ]
  },
  {
   "cell_type": "code",
   "execution_count": 4,
   "id": "49ea553e",
   "metadata": {},
   "outputs": [],
   "source": [
    "page = requests.get(link) \n",
    "\n",
    "soup = bs(page.content,'html.parser')\n",
    "\n"
   ]
  },
  {
   "cell_type": "code",
   "execution_count": 5,
   "id": "660fad2b",
   "metadata": {},
   "outputs": [
    {
     "name": "stdout",
     "output_type": "stream",
     "text": [
      "[<div class=\"_3k-BhJ\"><div class=\"flxcaE\">General</div><table class=\"_14cfVK\"><tbody><tr class=\"_1s_Smc row\"><td class=\"_1hKmbr col col-3-12\">In The Box</td><td class=\"URwL2w col col-9-12\"><ul><li class=\"_21lJbe\">Handset, Adapter(9V/2A), Micro USB Cable, SIM Card Tool, Screen Protect Film, Important Info Booklet with Warranty Card, Quick Guide</li></ul></td></tr><tr class=\"_1s_Smc row\"><td class=\"_1hKmbr col col-3-12\">Model Number</td><td class=\"URwL2w col col-9-12\"><ul><li class=\"_21lJbe\">RMX3268</li></ul></td></tr><tr class=\"_1s_Smc row\"><td class=\"_1hKmbr col col-3-12\">Model Name</td><td class=\"URwL2w col col-9-12\"><ul><li class=\"_21lJbe\">C25Y</li></ul></td></tr><tr class=\"_1s_Smc row\"><td class=\"_1hKmbr col col-3-12\">Color</td><td class=\"URwL2w col col-9-12\"><ul><li class=\"_21lJbe\">Metal Grey</li></ul></td></tr><tr class=\"_1s_Smc row\"><td class=\"_1hKmbr col col-3-12\">Browse Type</td><td class=\"URwL2w col col-9-12\"><ul><li class=\"_21lJbe\">Smartphones</li></ul></td></tr><tr class=\"_1s_Smc row\"><td class=\"_1hKmbr col col-3-12\">SIM Type</td><td class=\"URwL2w col col-9-12\"><ul><li class=\"_21lJbe\">Dual Sim</li></ul></td></tr><tr class=\"_1s_Smc row\"><td class=\"_1hKmbr col col-3-12\">Hybrid Sim Slot</td><td class=\"URwL2w col col-9-12\"><ul><li class=\"_21lJbe\">No</li></ul></td></tr><tr class=\"_1s_Smc row\"><td class=\"_1hKmbr col col-3-12\">Touchscreen</td><td class=\"URwL2w col col-9-12\"><ul><li class=\"_21lJbe\">Yes</li></ul></td></tr><tr class=\"_1s_Smc row\"><td class=\"_1hKmbr col col-3-12\">OTG Compatible</td><td class=\"URwL2w col col-9-12\"><ul><li class=\"_21lJbe\">Yes</li></ul></td></tr><tr class=\"_1s_Smc row\"><td class=\"_1hKmbr col col-3-12\">Quick Charging</td><td class=\"URwL2w col col-9-12\"><ul><li class=\"_21lJbe\">Yes</li></ul></td></tr><tr class=\"_1s_Smc row\"><td class=\"_1hKmbr col col-3-12\">Sound Enhancements</td><td class=\"URwL2w col col-9-12\"><ul><li class=\"_21lJbe\">Dirac Sound Effect</li></ul></td></tr><tr class=\"_1s_Smc row\"><td class=\"_1hKmbr col col-3-12\">SAR Value</td><td class=\"URwL2w col col-9-12\"><ul><li class=\"_21lJbe\">Head: 1.117 W/kg, Body: 0.767W/kg</li></ul></td></tr></tbody></table></div>, <div class=\"_3k-BhJ\"><div class=\"flxcaE\">Display Features</div><table class=\"_14cfVK\"><tbody><tr class=\"_1s_Smc row\"><td class=\"_1hKmbr col col-3-12\">Display Size</td><td class=\"URwL2w col col-9-12\"><ul><li class=\"_21lJbe\">16.51 cm (6.5 inch)</li></ul></td></tr><tr class=\"_1s_Smc row\"><td class=\"_1hKmbr col col-3-12\">Resolution</td><td class=\"URwL2w col col-9-12\"><ul><li class=\"_21lJbe\">1600 x 720 Pixels</li></ul></td></tr><tr class=\"_1s_Smc row\"><td class=\"_1hKmbr col col-3-12\">Resolution Type</td><td class=\"URwL2w col col-9-12\"><ul><li class=\"_21lJbe\">HD+</li></ul></td></tr><tr class=\"_1s_Smc row\"><td class=\"_1hKmbr col col-3-12\">GPU</td><td class=\"URwL2w col col-9-12\"><ul><li class=\"_21lJbe\">Arm Mali-G52</li></ul></td></tr><tr class=\"_1s_Smc row\"><td class=\"_1hKmbr col col-3-12\">Display Type</td><td class=\"URwL2w col col-9-12\"><ul><li class=\"_21lJbe\">HD+ LCD In-cell Display</li></ul></td></tr><tr class=\"_1s_Smc row\"><td class=\"_1hKmbr col col-3-12\">Display Colors</td><td class=\"URwL2w col col-9-12\"><ul><li class=\"_21lJbe\">16.7M</li></ul></td></tr><tr class=\"_1s_Smc row\"><td class=\"_1hKmbr col col-3-12\">Other Display Features</td><td class=\"URwL2w col col-9-12\"><ul><li class=\"_21lJbe\">60Hz Refresh Rate, 20:9 Aspect Ratio, 88.7% Screen-to-Body Ratio, 120Hz Touch Sampling Rate, Brightness: 360nits (Min), 420nits (Typical), Color Saturation: NTSC 70% (Typ), 65% (Min), COG Sealing Process</li></ul></td></tr></tbody></table></div>, <div class=\"_3k-BhJ\"><div class=\"flxcaE\">Os &amp; Processor Features</div><table class=\"_14cfVK\"><tbody><tr class=\"_1s_Smc row\"><td class=\"_1hKmbr col col-3-12\">Operating System</td><td class=\"URwL2w col col-9-12\"><ul><li class=\"_21lJbe\">Android 11</li></ul></td></tr><tr class=\"_1s_Smc row\"><td class=\"_1hKmbr col col-3-12\">Processor Type</td><td class=\"URwL2w col col-9-12\"><ul><li class=\"_21lJbe\">Unisoc T610 Octa Core</li></ul></td></tr><tr class=\"_1s_Smc row\"><td class=\"_1hKmbr col col-3-12\">Processor Core</td><td class=\"URwL2w col col-9-12\"><ul><li class=\"_21lJbe\">Octa Core</li></ul></td></tr><tr class=\"_1s_Smc row\"><td class=\"_1hKmbr col col-3-12\">Primary Clock Speed</td><td class=\"URwL2w col col-9-12\"><ul><li class=\"_21lJbe\">1.8 GHz</li></ul></td></tr><tr class=\"_1s_Smc row\"><td class=\"_1hKmbr col col-3-12\">Secondary Clock Speed</td><td class=\"URwL2w col col-9-12\"><ul><li class=\"_21lJbe\">1.8 GHz</li></ul></td></tr><tr class=\"_1s_Smc row\"><td class=\"_1hKmbr col col-3-12\">Operating Frequency</td><td class=\"URwL2w col col-9-12\"><ul><li class=\"_21lJbe\">2G GSM: 850/900/1800/1900MHz, 3G WCDMA: Bands 1/5/8, 4G FDD-LTE: Bands 1/3/5/8, 4G TD-LTE: Bands 38/40/41</li></ul></td></tr></tbody></table></div>, <div class=\"_3k-BhJ\"><div class=\"flxcaE\">Memory &amp; Storage Features</div><table class=\"_14cfVK\"><tbody><tr class=\"_1s_Smc row\"><td class=\"_1hKmbr col col-3-12\">Internal Storage</td><td class=\"URwL2w col col-9-12\"><ul><li class=\"_21lJbe\">64 GB</li></ul></td></tr><tr class=\"_1s_Smc row\"><td class=\"_1hKmbr col col-3-12\">RAM</td><td class=\"URwL2w col col-9-12\"><ul><li class=\"_21lJbe\">4 GB</li></ul></td></tr><tr class=\"_1s_Smc row\"><td class=\"_1hKmbr col col-3-12\">Expandable Storage</td><td class=\"URwL2w col col-9-12\"><ul><li class=\"_21lJbe\">256 GB</li></ul></td></tr><tr class=\"_1s_Smc row\"><td class=\"_1hKmbr col col-3-12\">Supported Memory Card Type</td><td class=\"URwL2w col col-9-12\"><ul><li class=\"_21lJbe\">microSD</li></ul></td></tr><tr class=\"_1s_Smc row\"><td class=\"_1hKmbr col col-3-12\">Memory Card Slot Type</td><td class=\"URwL2w col col-9-12\"><ul><li class=\"_21lJbe\">Dedicated Slot</li></ul></td></tr></tbody></table></div>, <div class=\"_3k-BhJ\"><div class=\"flxcaE\">Camera Features</div><table class=\"_14cfVK\"><tbody><tr class=\"_1s_Smc row\"><td class=\"_1hKmbr col col-3-12\">Primary Camera Available</td><td class=\"URwL2w col col-9-12\"><ul><li class=\"_21lJbe\">Yes</li></ul></td></tr><tr class=\"_1s_Smc row\"><td class=\"_1hKmbr col col-3-12\">Primary Camera</td><td class=\"URwL2w col col-9-12\"><ul><li class=\"_21lJbe\">50MP + 2MP + 2MP</li></ul></td></tr><tr class=\"_1s_Smc row\"><td class=\"_1hKmbr col col-3-12\">Primary Camera Features</td><td class=\"URwL2w col col-9-12\"><ul><li class=\"_21lJbe\">Triple Rear Camera Setup: 50MP Primary (S5KJN1SQ03, f/1.8 Aperture, FOV: 77 Degree, 26.80mm Focal Length, 1/2.76 inch Sensor Size, 5P lens, PDAF) + 2MP Portrait (Galaxycore GC02M1B, f/2.4 Aperture, FOV: 88.8 Degree, 21.88mm Focal Length, 1/5 inch Sensor Size, 1.75um Pixel Size, 3P lens, FF) + 2MP Macro (Galaxycore GC02M1, f/2.4 Aperture, FOV: 88.8 Degree, 21.88mm Focal Length, 1/5 inch Sensor Size, 1.75um Pixel Size, 3P lens, FF), CMOS Sensor, Photograph Function: Beauty, Filter, HDR, Panoramic View, Portrait, Timelapse, Expert, Super Night</li></ul></td></tr><tr class=\"_1s_Smc row\"><td class=\"_1hKmbr col col-3-12\">Secondary Camera Available</td><td class=\"URwL2w col col-9-12\"><ul><li class=\"_21lJbe\">Yes</li></ul></td></tr><tr class=\"_1s_Smc row\"><td class=\"_1hKmbr col col-3-12\">Secondary Camera</td><td class=\"URwL2w col col-9-12\"><ul><li class=\"_21lJbe\">8MP Front Camera</li></ul></td></tr><tr class=\"_1s_Smc row\"><td class=\"_1hKmbr col col-3-12\">Secondary Camera Features</td><td class=\"URwL2w col col-9-12\"><ul><li class=\"_21lJbe\">8MP Front Camera (IMX355PQH5-C, f/2.0, FOV: 78.5 Degree, 1/4 inch Sensor Size, 1.12um Pixel Size, 5P Lens, FF), CMOS Sensor, Photography Functions: Beauty, Filter, HDR</li></ul></td></tr><tr class=\"_1s_Smc row\"><td class=\"_1hKmbr col col-3-12\">Flash</td><td class=\"URwL2w col col-9-12\"><ul><li class=\"_21lJbe\">Rear - LED Flash Front - Screen Flash</li></ul></td></tr><tr class=\"_1s_Smc row\"><td class=\"_1hKmbr col col-3-12\">HD Recording</td><td class=\"URwL2w col col-9-12\"><ul><li class=\"_21lJbe\">Yes</li></ul></td></tr><tr class=\"_1s_Smc row\"><td class=\"_1hKmbr col col-3-12\">Video Recording</td><td class=\"URwL2w col col-9-12\"><ul><li class=\"_21lJbe\">Yes</li></ul></td></tr><tr class=\"_1s_Smc row\"><td class=\"_1hKmbr col col-3-12\">Video Recording Resolution</td><td class=\"URwL2w col col-9-12\"><ul><li class=\"_21lJbe\">Rear Camera: 720p, 1080p and 480p (at 30fps), Slo-mo Video: 720p (at 120fps), Front Camera: 720p and 480p (at 30fps)</li></ul></td></tr><tr class=\"_1s_Smc row\"><td class=\"_1hKmbr col col-3-12\">Digital Zoom</td><td class=\"URwL2w col col-9-12\"><ul><li class=\"_21lJbe\">4X</li></ul></td></tr><tr class=\"_1s_Smc row\"><td class=\"_1hKmbr col col-3-12\">Frame Rate</td><td class=\"URwL2w col col-9-12\"><ul><li class=\"_21lJbe\">30 fps</li></ul></td></tr><tr class=\"_1s_Smc row\"><td class=\"_1hKmbr col col-3-12\">Dual Camera Lens</td><td class=\"URwL2w col col-9-12\"><ul><li class=\"_21lJbe\">Primary Camera</li></ul></td></tr></tbody></table></div>, <div class=\"_3k-BhJ\"><div class=\"flxcaE\">Connectivity Features</div><table class=\"_14cfVK\"><tbody><tr class=\"_1s_Smc row\"><td class=\"_1hKmbr col col-3-12\">Network Type</td><td class=\"URwL2w col col-9-12\"><ul><li class=\"_21lJbe\">4G VOLTE, 4G, 3G, 2G</li></ul></td></tr><tr class=\"_1s_Smc row\"><td class=\"_1hKmbr col col-3-12\">Supported Networks</td><td class=\"URwL2w col col-9-12\"><ul><li class=\"_21lJbe\">4G LTE, WCDMA, GSM</li></ul></td></tr><tr class=\"_1s_Smc row\"><td class=\"_1hKmbr col col-3-12\">Internet Connectivity</td><td class=\"URwL2w col col-9-12\"><ul><li class=\"_21lJbe\">4G, 3G, Wi-Fi, EDGE, GPRS</li></ul></td></tr><tr class=\"_1s_Smc row\"><td class=\"_1hKmbr col col-3-12\">3G</td><td class=\"URwL2w col col-9-12\"><ul><li class=\"_21lJbe\">Yes</li></ul></td></tr><tr class=\"_1s_Smc row\"><td class=\"_1hKmbr col col-3-12\">GPRS</td><td class=\"URwL2w col col-9-12\"><ul><li class=\"_21lJbe\">Yes</li></ul></td></tr><tr class=\"_1s_Smc row\"><td class=\"_1hKmbr col col-3-12\">Pre-installed Browser</td><td class=\"URwL2w col col-9-12\"><ul><li class=\"_21lJbe\">Google Chrome</li></ul></td></tr><tr class=\"_1s_Smc row\"><td class=\"_1hKmbr col col-3-12\">Bluetooth Support</td><td class=\"URwL2w col col-9-12\"><ul><li class=\"_21lJbe\">Yes</li></ul></td></tr><tr class=\"_1s_Smc row\"><td class=\"_1hKmbr col col-3-12\">Bluetooth Version</td><td class=\"URwL2w col col-9-12\"><ul><li class=\"_21lJbe\">v5.0</li></ul></td></tr><tr class=\"_1s_Smc row\"><td class=\"_1hKmbr col col-3-12\">Wi-Fi</td><td class=\"URwL2w col col-9-12\"><ul><li class=\"_21lJbe\">Yes</li></ul></td></tr><tr class=\"_1s_Smc row\"><td class=\"_1hKmbr col col-3-12\">Wi-Fi Version</td><td class=\"URwL2w col col-9-12\"><ul><li class=\"_21lJbe\">IEEE802.11 b/g/n</li></ul></td></tr><tr class=\"_1s_Smc row\"><td class=\"_1hKmbr col col-3-12\">Wi-Fi Hotspot</td><td class=\"URwL2w col col-9-12\"><ul><li class=\"_21lJbe\">Yes</li></ul></td></tr><tr class=\"_1s_Smc row\"><td class=\"_1hKmbr col col-3-12\">NFC</td><td class=\"URwL2w col col-9-12\"><ul><li class=\"_21lJbe\">No</li></ul></td></tr><tr class=\"_1s_Smc row\"><td class=\"_1hKmbr col col-3-12\">USB Connectivity</td><td class=\"URwL2w col col-9-12\"><ul><li class=\"_21lJbe\">Yes</li></ul></td></tr><tr class=\"_1s_Smc row\"><td class=\"_1hKmbr col col-3-12\">EDGE</td><td class=\"URwL2w col col-9-12\"><ul><li class=\"_21lJbe\">Yes</li></ul></td></tr><tr class=\"_1s_Smc row\"><td class=\"_1hKmbr col col-3-12\">Audio Jack</td><td class=\"URwL2w col col-9-12\"><ul><li class=\"_21lJbe\">3.5mm</li></ul></td></tr><tr class=\"_1s_Smc row\"><td class=\"_1hKmbr col col-3-12\">Map Support</td><td class=\"URwL2w col col-9-12\"><ul><li class=\"_21lJbe\">Google Maps</li></ul></td></tr><tr class=\"_1s_Smc row\"><td class=\"_1hKmbr col col-3-12\">GPS Support</td><td class=\"URwL2w col col-9-12\"><ul><li class=\"_21lJbe\">Yes</li></ul></td></tr></tbody></table></div>, <div class=\"_3k-BhJ\"><div class=\"flxcaE\">Other Details</div><table class=\"_14cfVK\"><tbody><tr class=\"_1s_Smc row\"><td class=\"_1hKmbr col col-3-12\">Smartphone</td><td class=\"URwL2w col col-9-12\"><ul><li class=\"_21lJbe\">Yes</li></ul></td></tr><tr class=\"_1s_Smc row\"><td class=\"_1hKmbr col col-3-12\">Touchscreen Type</td><td class=\"URwL2w col col-9-12\"><ul><li class=\"_21lJbe\">Capacitive</li></ul></td></tr><tr class=\"_1s_Smc row\"><td class=\"_1hKmbr col col-3-12\">SIM Size</td><td class=\"URwL2w col col-9-12\"><ul><li class=\"_21lJbe\">Nano + Nano</li></ul></td></tr><tr class=\"_1s_Smc row\"><td class=\"_1hKmbr col col-3-12\">User Interface</td><td class=\"URwL2w col col-9-12\"><ul><li class=\"_21lJbe\">Realme UI R Edition (Based on Android 11)</li></ul></td></tr><tr class=\"_1s_Smc row\"><td class=\"_1hKmbr col col-3-12\">SMS</td><td class=\"URwL2w col col-9-12\"><ul><li class=\"_21lJbe\">Yes</li></ul></td></tr><tr class=\"_1s_Smc row\"><td class=\"_1hKmbr col col-3-12\">Graphics PPI</td><td class=\"URwL2w col col-9-12\"><ul><li class=\"_21lJbe\">269 PPI</li></ul></td></tr><tr class=\"_1s_Smc row\"><td class=\"_1hKmbr col col-3-12\">Sensors</td><td class=\"URwL2w col col-9-12\"><ul><li class=\"_21lJbe\">Magnetic Induction Sensor, Light Sensor, Proximity Sensor, Gyro-meter, Acceleration Sensor</li></ul></td></tr><tr class=\"_1s_Smc row\"><td class=\"_1hKmbr col col-3-12\">Browser</td><td class=\"URwL2w col col-9-12\"><ul><li class=\"_21lJbe\">Google Chrome</li></ul></td></tr><tr class=\"_1s_Smc row\"><td class=\"_1hKmbr col col-3-12\">Ringtones Format</td><td class=\"URwL2w col col-9-12\"><ul><li class=\"_21lJbe\">OGG</li></ul></td></tr><tr class=\"_1s_Smc row\"><td class=\"_1hKmbr col col-3-12\">Other Features</td><td class=\"URwL2w col col-9-12\"><ul><li class=\"_21lJbe\">emmc 5.1 ROM, 18W Max Charging Power, QC 2.0, 5V/500mA Reverse Charging Power, Rear Fingerprint, Phone Lock Functions: Face Unlock, Fingerprint Unlock, Password Unlock, Pattern Unlock, Fingerprint Unlock Speed (365.33ms), Face Unlock Speed (757.67ms), WideVine L3 Supported, Night Shiled, APP Market, Clone Phone, Google Lens</li></ul></td></tr><tr class=\"_1s_Smc row\"><td class=\"_1hKmbr col col-3-12\">GPS Type</td><td class=\"URwL2w col col-9-12\"><ul><li class=\"_21lJbe\">GPS/AGPS, Beidou, Glonass</li></ul></td></tr></tbody></table></div>, <div class=\"_3k-BhJ\"><div class=\"flxcaE\">Multimedia Features</div><table class=\"_14cfVK\"><tbody><tr class=\"_1s_Smc row\"><td class=\"_1hKmbr col col-3-12\">Audio Formats</td><td class=\"URwL2w col col-9-12\"><ul><li class=\"_21lJbe\">MPEG, AMRNB, AMRWB, AAC, G711.ALAW, G711.MLAW, VORBIS, OPUS, FLAC</li></ul></td></tr><tr class=\"_1s_Smc row\"><td class=\"_1hKmbr col col-3-12\">Video Formats</td><td class=\"URwL2w col col-9-12\"><ul><li class=\"_21lJbe\">H.264, MPEG-4, H.263, Sorenson Spark, VP8, VP9, H.265</li></ul></td></tr></tbody></table></div>, <div class=\"_3k-BhJ\"><div class=\"flxcaE\">Battery &amp; Power Features</div><table class=\"_14cfVK\"><tbody><tr class=\"_1s_Smc row\"><td class=\"_1hKmbr col col-3-12\">Battery Capacity</td><td class=\"URwL2w col col-9-12\"><ul><li class=\"_21lJbe\">5000 mAh</li></ul></td></tr></tbody></table></div>, <div class=\"_3k-BhJ\"><div class=\"flxcaE\">Dimensions</div><table class=\"_14cfVK\"><tbody><tr class=\"_1s_Smc row\"><td class=\"_1hKmbr col col-3-12\">Width</td><td class=\"URwL2w col col-9-12\"><ul><li class=\"_21lJbe\">76 mm</li></ul></td></tr><tr class=\"_1s_Smc row\"><td class=\"_1hKmbr col col-3-12\">Height</td><td class=\"URwL2w col col-9-12\"><ul><li class=\"_21lJbe\">164.5 mm</li></ul></td></tr><tr class=\"_1s_Smc row\"><td class=\"_1hKmbr col col-3-12\">Depth</td><td class=\"URwL2w col col-9-12\"><ul><li class=\"_21lJbe\">9.1 mm</li></ul></td></tr><tr class=\"_1s_Smc row\"><td class=\"_1hKmbr col col-3-12\">Weight</td><td class=\"URwL2w col col-9-12\"><ul><li class=\"_21lJbe\">200 g</li></ul></td></tr></tbody></table></div>, <div class=\"_3k-BhJ\"><div class=\"flxcaE\">Warranty</div><table class=\"_14cfVK\"><tbody><tr class=\"_1s_Smc row\"><td class=\"_1hKmbr col col-3-12\">Warranty Summary</td><td class=\"URwL2w col col-9-12\"><ul><li class=\"_21lJbe\">1 Year Warranty for Mobile and 6 Months for Accessories</li></ul></td></tr><tr class=\"_1s_Smc row\"><td class=\"_1hKmbr col col-3-12\">Domestic Warranty</td><td class=\"URwL2w col col-9-12\"><ul><li class=\"_21lJbe\">1 Year</li></ul></td></tr></tbody></table></div>]\n",
      "11\n"
     ]
    }
   ],
   "source": [
    "table = soup.findAll('div' , attrs = {'class' : '_3k-BhJ'})\n",
    "print(table)\n",
    "print(len(table))\n",
    "#table_rows = table.find('tr')\n",
    "#print(table_rows)"
   ]
  },
  {
   "cell_type": "code",
   "execution_count": 6,
   "id": "65605e24",
   "metadata": {},
   "outputs": [
    {
     "name": "stdout",
     "output_type": "stream",
     "text": [
      "[<div class=\"_3k-BhJ\"><div class=\"flxcaE\">General</div><table class=\"_14cfVK\"><tbody><tr class=\"_1s_Smc row\"><td class=\"_1hKmbr col col-3-12\">In The Box</td><td class=\"URwL2w col col-9-12\"><ul><li class=\"_21lJbe\">Handset, Power Adapter (5V/2A), Micro USB Cable, SIM Eject Tool, Warranty Card, User Guide</li></ul></td></tr><tr class=\"_1s_Smc row\"><td class=\"_1hKmbr col col-3-12\">Model Number</td><td class=\"URwL2w col col-9-12\"><ul><li class=\"_21lJbe\">MZB0813IN / MZB080SIN / MZB0817IN / MZB080UIN</li></ul></td></tr><tr class=\"_1s_Smc row\"><td class=\"_1hKmbr col col-3-12\">Model Name</td><td class=\"URwL2w col col-9-12\"><ul><li class=\"_21lJbe\">9i</li></ul></td></tr><tr class=\"_1s_Smc row\"><td class=\"_1hKmbr col col-3-12\">Color</td><td class=\"URwL2w col col-9-12\"><ul><li class=\"_21lJbe\">Midnight Black</li></ul></td></tr><tr class=\"_1s_Smc row\"><td class=\"_1hKmbr col col-3-12\">Browse Type</td><td class=\"URwL2w col col-9-12\"><ul><li class=\"_21lJbe\">Smartphones</li></ul></td></tr><tr class=\"_1s_Smc row\"><td class=\"_1hKmbr col col-3-12\">SIM Type</td><td class=\"URwL2w col col-9-12\"><ul><li class=\"_21lJbe\">Dual Sim</li></ul></td></tr><tr class=\"_1s_Smc row\"><td class=\"_1hKmbr col col-3-12\">Hybrid Sim Slot</td><td class=\"URwL2w col col-9-12\"><ul><li class=\"_21lJbe\">No</li></ul></td></tr><tr class=\"_1s_Smc row\"><td class=\"_1hKmbr col col-3-12\">Touchscreen</td><td class=\"URwL2w col col-9-12\"><ul><li class=\"_21lJbe\">Yes</li></ul></td></tr><tr class=\"_1s_Smc row\"><td class=\"_1hKmbr col col-3-12\">OTG Compatible</td><td class=\"URwL2w col col-9-12\"><ul><li class=\"_21lJbe\">Yes</li></ul></td></tr><tr class=\"_1s_Smc row\"><td class=\"_1hKmbr col col-3-12\">Sound Enhancements</td><td class=\"URwL2w col col-9-12\"><ul><li class=\"_21lJbe\">Single Bottom Opening Speaker</li></ul></td></tr><tr class=\"_1s_Smc row\"><td class=\"_1hKmbr col col-3-12\">SAR Value</td><td class=\"URwL2w col col-9-12\"><ul><li class=\"_21lJbe\">Head: 0.528 W/kg, Body: 0.791 W/kg</li></ul></td></tr></tbody></table></div>, <div class=\"_3k-BhJ\"><div class=\"flxcaE\">Display Features</div><table class=\"_14cfVK\"><tbody><tr class=\"_1s_Smc row\"><td class=\"_1hKmbr col col-3-12\">Display Size</td><td class=\"URwL2w col col-9-12\"><ul><li class=\"_21lJbe\">16.59 cm (6.53 inch)</li></ul></td></tr><tr class=\"_1s_Smc row\"><td class=\"_1hKmbr col col-3-12\">Resolution</td><td class=\"URwL2w col col-9-12\"><ul><li class=\"_21lJbe\">1600 x 720 Pixels</li></ul></td></tr><tr class=\"_1s_Smc row\"><td class=\"_1hKmbr col col-3-12\">Resolution Type</td><td class=\"URwL2w col col-9-12\"><ul><li class=\"_21lJbe\">HD+</li></ul></td></tr><tr class=\"_1s_Smc row\"><td class=\"_1hKmbr col col-3-12\">GPU</td><td class=\"URwL2w col col-9-12\"><ul><li class=\"_21lJbe\">IMG GE8320 (at 650 MHz)</li></ul></td></tr><tr class=\"_1s_Smc row\"><td class=\"_1hKmbr col col-3-12\">Display Type</td><td class=\"URwL2w col col-9-12\"><ul><li class=\"_21lJbe\">HD+ IPS Display</li></ul></td></tr><tr class=\"_1s_Smc row\"><td class=\"_1hKmbr col col-3-12\">Other Display Features</td><td class=\"URwL2w col col-9-12\"><ul><li class=\"_21lJbe\">Panda Glass, 20:9 Screen Ratio</li></ul></td></tr></tbody></table></div>, <div class=\"_3k-BhJ\"><div class=\"flxcaE\">Os &amp; Processor Features</div><table class=\"_14cfVK\"><tbody><tr class=\"_1s_Smc row\"><td class=\"_1hKmbr col col-3-12\">Operating System</td><td class=\"URwL2w col col-9-12\"><ul><li class=\"_21lJbe\">Android 10</li></ul></td></tr><tr class=\"_1s_Smc row\"><td class=\"_1hKmbr col col-3-12\">Processor Type</td><td class=\"URwL2w col col-9-12\"><ul><li class=\"_21lJbe\">MediaTek Helio G25</li></ul></td></tr><tr class=\"_1s_Smc row\"><td class=\"_1hKmbr col col-3-12\">Processor Core</td><td class=\"URwL2w col col-9-12\"><ul><li class=\"_21lJbe\">Octa Core</li></ul></td></tr><tr class=\"_1s_Smc row\"><td class=\"_1hKmbr col col-3-12\">Primary Clock Speed</td><td class=\"URwL2w col col-9-12\"><ul><li class=\"_21lJbe\">2 GHz</li></ul></td></tr><tr class=\"_1s_Smc row\"><td class=\"_1hKmbr col col-3-12\">Secondary Clock Speed</td><td class=\"URwL2w col col-9-12\"><ul><li class=\"_21lJbe\">1.5 GHz</li></ul></td></tr><tr class=\"_1s_Smc row\"><td class=\"_1hKmbr col col-3-12\">Operating Frequency</td><td class=\"URwL2w col col-9-12\"><ul><li class=\"_21lJbe\">GSM: B2, B3, B5, B8, WCDMA: B1, B5, B8, 4G LTE TDD: B40, B41, 4G LTE FDD: B1, B3, B5, B8</li></ul></td></tr></tbody></table></div>, <div class=\"_3k-BhJ\"><div class=\"flxcaE\">Memory &amp; Storage Features</div><table class=\"_14cfVK\"><tbody><tr class=\"_1s_Smc row\"><td class=\"_1hKmbr col col-3-12\">Internal Storage</td><td class=\"URwL2w col col-9-12\"><ul><li class=\"_21lJbe\">64 GB</li></ul></td></tr><tr class=\"_1s_Smc row\"><td class=\"_1hKmbr col col-3-12\">RAM</td><td class=\"URwL2w col col-9-12\"><ul><li class=\"_21lJbe\">4 GB</li></ul></td></tr><tr class=\"_1s_Smc row\"><td class=\"_1hKmbr col col-3-12\">Expandable Storage</td><td class=\"URwL2w col col-9-12\"><ul><li class=\"_21lJbe\">512 GB</li></ul></td></tr><tr class=\"_1s_Smc row\"><td class=\"_1hKmbr col col-3-12\">Supported Memory Card Type</td><td class=\"URwL2w col col-9-12\"><ul><li class=\"_21lJbe\">microSD</li></ul></td></tr><tr class=\"_1s_Smc row\"><td class=\"_1hKmbr col col-3-12\">Memory Card Slot Type</td><td class=\"URwL2w col col-9-12\"><ul><li class=\"_21lJbe\">Dedicated Slot</li></ul></td></tr></tbody></table></div>, <div class=\"_3k-BhJ\"><div class=\"flxcaE\">Camera Features</div><table class=\"_14cfVK\"><tbody><tr class=\"_1s_Smc row\"><td class=\"_1hKmbr col col-3-12\">Primary Camera Available</td><td class=\"URwL2w col col-9-12\"><ul><li class=\"_21lJbe\">Yes</li></ul></td></tr><tr class=\"_1s_Smc row\"><td class=\"_1hKmbr col col-3-12\">Primary Camera</td><td class=\"URwL2w col col-9-12\"><ul><li class=\"_21lJbe\">13MP Rear Camera</li></ul></td></tr><tr class=\"_1s_Smc row\"><td class=\"_1hKmbr col col-3-12\">Primary Camera Features</td><td class=\"URwL2w col col-9-12\"><ul><li class=\"_21lJbe\">13MP Rear Camera Setup (f/2.2, 1.0Î¼m, PDAF), HDR, Portrait, AI Scene Detection, Kaleidoscope, Filters, Pro Mode</li></ul></td></tr><tr class=\"_1s_Smc row\"><td class=\"_1hKmbr col col-3-12\">Secondary Camera Available</td><td class=\"URwL2w col col-9-12\"><ul><li class=\"_21lJbe\">Yes</li></ul></td></tr><tr class=\"_1s_Smc row\"><td class=\"_1hKmbr col col-3-12\">Secondary Camera</td><td class=\"URwL2w col col-9-12\"><ul><li class=\"_21lJbe\">5MP Front Camera</li></ul></td></tr><tr class=\"_1s_Smc row\"><td class=\"_1hKmbr col col-3-12\">Secondary Camera Features</td><td class=\"URwL2w col col-9-12\"><ul><li class=\"_21lJbe\">5MP Front Camera (f/2.2, 1.12Î¼m), Portrait, HDR, Portrait, Plam Shutter, Screen Flash, Beauty Mode</li></ul></td></tr><tr class=\"_1s_Smc row\"><td class=\"_1hKmbr col col-3-12\">Flash</td><td class=\"URwL2w col col-9-12\"><ul><li class=\"_21lJbe\">Rear LED Flash</li></ul></td></tr><tr class=\"_1s_Smc row\"><td class=\"_1hKmbr col col-3-12\">HD Recording</td><td class=\"URwL2w col col-9-12\"><ul><li class=\"_21lJbe\">Yes</li></ul></td></tr><tr class=\"_1s_Smc row\"><td class=\"_1hKmbr col col-3-12\">Full HD Recording</td><td class=\"URwL2w col col-9-12\"><ul><li class=\"_21lJbe\">Yes</li></ul></td></tr><tr class=\"_1s_Smc row\"><td class=\"_1hKmbr col col-3-12\">Video Recording</td><td class=\"URwL2w col col-9-12\"><ul><li class=\"_21lJbe\">Yes</li></ul></td></tr><tr class=\"_1s_Smc row\"><td class=\"_1hKmbr col col-3-12\">Video Recording Resolution</td><td class=\"URwL2w col col-9-12\"><ul><li class=\"_21lJbe\">720P (at 30 fps), 1080P (at 30 fps)</li></ul></td></tr><tr class=\"_1s_Smc row\"><td class=\"_1hKmbr col col-3-12\">Frame Rate</td><td class=\"URwL2w col col-9-12\"><ul><li class=\"_21lJbe\">30 fps</li></ul></td></tr></tbody></table></div>, <div class=\"_3k-BhJ\"><div class=\"flxcaE\">Call Features</div><table class=\"_14cfVK\"><tbody><tr class=\"_1s_Smc row\"><td class=\"_1hKmbr col col-3-12\">Call Wait/Hold</td><td class=\"URwL2w col col-9-12\"><ul><li class=\"_21lJbe\">Yes</li></ul></td></tr><tr class=\"_1s_Smc row\"><td class=\"_1hKmbr col col-3-12\">Hands Free</td><td class=\"URwL2w col col-9-12\"><ul><li class=\"_21lJbe\">Yes</li></ul></td></tr><tr class=\"_1s_Smc row\"><td class=\"_1hKmbr col col-3-12\">Video Call Support</td><td class=\"URwL2w col col-9-12\"><ul><li class=\"_21lJbe\">Yes</li></ul></td></tr><tr class=\"_1s_Smc row\"><td class=\"_1hKmbr col col-3-12\">Call Divert</td><td class=\"URwL2w col col-9-12\"><ul><li class=\"_21lJbe\">Yes</li></ul></td></tr><tr class=\"_1s_Smc row\"><td class=\"_1hKmbr col col-3-12\">Phone Book</td><td class=\"URwL2w col col-9-12\"><ul><li class=\"_21lJbe\">Yes</li></ul></td></tr><tr class=\"_1s_Smc row\"><td class=\"_1hKmbr col col-3-12\">Call Timer</td><td class=\"URwL2w col col-9-12\"><ul><li class=\"_21lJbe\">Yes</li></ul></td></tr><tr class=\"_1s_Smc row\"><td class=\"_1hKmbr col col-3-12\">Speaker Phone</td><td class=\"URwL2w col col-9-12\"><ul><li class=\"_21lJbe\">Yes</li></ul></td></tr><tr class=\"_1s_Smc row\"><td class=\"_1hKmbr col col-3-12\">Speed Dialing</td><td class=\"URwL2w col col-9-12\"><ul><li class=\"_21lJbe\">Yes</li></ul></td></tr></tbody></table></div>, <div class=\"_3k-BhJ\"><div class=\"flxcaE\">Connectivity Features</div><table class=\"_14cfVK\"><tbody><tr class=\"_1s_Smc row\"><td class=\"_1hKmbr col col-3-12\">Network Type</td><td class=\"URwL2w col col-9-12\"><ul><li class=\"_21lJbe\">4G VOLTE, 4G, 3G, 2G</li></ul></td></tr><tr class=\"_1s_Smc row\"><td class=\"_1hKmbr col col-3-12\">Supported Networks</td><td class=\"URwL2w col col-9-12\"><ul><li class=\"_21lJbe\">4G VoLTE, 4G LTE, WCDMA, GSM</li></ul></td></tr><tr class=\"_1s_Smc row\"><td class=\"_1hKmbr col col-3-12\">Internet Connectivity</td><td class=\"URwL2w col col-9-12\"><ul><li class=\"_21lJbe\">4G, 3G, Wi-Fi</li></ul></td></tr><tr class=\"_1s_Smc row\"><td class=\"_1hKmbr col col-3-12\">Pre-installed Browser</td><td class=\"URwL2w col col-9-12\"><ul><li class=\"_21lJbe\">Google Chrome</li></ul></td></tr><tr class=\"_1s_Smc row\"><td class=\"_1hKmbr col col-3-12\">Micro USB Port</td><td class=\"URwL2w col col-9-12\"><ul><li class=\"_21lJbe\">Yes</li></ul></td></tr><tr class=\"_1s_Smc row\"><td class=\"_1hKmbr col col-3-12\">Micro USB Version</td><td class=\"URwL2w col col-9-12\"><ul><li class=\"_21lJbe\">USB 2.0</li></ul></td></tr><tr class=\"_1s_Smc row\"><td class=\"_1hKmbr col col-3-12\">Bluetooth Support</td><td class=\"URwL2w col col-9-12\"><ul><li class=\"_21lJbe\">Yes</li></ul></td></tr><tr class=\"_1s_Smc row\"><td class=\"_1hKmbr col col-3-12\">Bluetooth Version</td><td class=\"URwL2w col col-9-12\"><ul><li class=\"_21lJbe\">v5.0</li></ul></td></tr><tr class=\"_1s_Smc row\"><td class=\"_1hKmbr col col-3-12\">Wi-Fi</td><td class=\"URwL2w col col-9-12\"><ul><li class=\"_21lJbe\">Yes</li></ul></td></tr><tr class=\"_1s_Smc row\"><td class=\"_1hKmbr col col-3-12\">Wi-Fi Version</td><td class=\"URwL2w col col-9-12\"><ul><li class=\"_21lJbe\">802.11a/b/g/n</li></ul></td></tr><tr class=\"_1s_Smc row\"><td class=\"_1hKmbr col col-3-12\">Wi-Fi Hotspot</td><td class=\"URwL2w col col-9-12\"><ul><li class=\"_21lJbe\">Yes</li></ul></td></tr><tr class=\"_1s_Smc row\"><td class=\"_1hKmbr col col-3-12\">USB Connectivity</td><td class=\"URwL2w col col-9-12\"><ul><li class=\"_21lJbe\">Yes</li></ul></td></tr><tr class=\"_1s_Smc row\"><td class=\"_1hKmbr col col-3-12\">Audio Jack</td><td class=\"URwL2w col col-9-12\"><ul><li class=\"_21lJbe\">3.5mm</li></ul></td></tr><tr class=\"_1s_Smc row\"><td class=\"_1hKmbr col col-3-12\">Map Support</td><td class=\"URwL2w col col-9-12\"><ul><li class=\"_21lJbe\">Google Maps</li></ul></td></tr><tr class=\"_1s_Smc row\"><td class=\"_1hKmbr col col-3-12\">GPS Support</td><td class=\"URwL2w col col-9-12\"><ul><li class=\"_21lJbe\">Yes</li></ul></td></tr></tbody></table></div>, <div class=\"_3k-BhJ\"><div class=\"flxcaE\">Other Details</div><table class=\"_14cfVK\"><tbody><tr class=\"_1s_Smc row\"><td class=\"_1hKmbr col col-3-12\">Smartphone</td><td class=\"URwL2w col col-9-12\"><ul><li class=\"_21lJbe\">Yes</li></ul></td></tr><tr class=\"_1s_Smc row\"><td class=\"_1hKmbr col col-3-12\">Touchscreen Type</td><td class=\"URwL2w col col-9-12\"><ul><li class=\"_21lJbe\">Capacitive</li></ul></td></tr><tr class=\"_1s_Smc row\"><td class=\"_1hKmbr col col-3-12\">SIM Size</td><td class=\"URwL2w col col-9-12\"><ul><li class=\"_21lJbe\">Nano + Nano</li></ul></td></tr><tr class=\"_1s_Smc row\"><td class=\"_1hKmbr col col-3-12\">Mobile Tracker</td><td class=\"URwL2w col col-9-12\"><ul><li class=\"_21lJbe\">Yes</li></ul></td></tr><tr class=\"_1s_Smc row\"><td class=\"_1hKmbr col col-3-12\">User Interface</td><td class=\"URwL2w col col-9-12\"><ul><li class=\"_21lJbe\">MIUI 12 (Based on Android 10)</li></ul></td></tr><tr class=\"_1s_Smc row\"><td class=\"_1hKmbr col col-3-12\">Removable Battery</td><td class=\"URwL2w col col-9-12\"><ul><li class=\"_21lJbe\">No</li></ul></td></tr><tr class=\"_1s_Smc row\"><td class=\"_1hKmbr col col-3-12\">SMS</td><td class=\"URwL2w col col-9-12\"><ul><li class=\"_21lJbe\">Yes</li></ul></td></tr><tr class=\"_1s_Smc row\"><td class=\"_1hKmbr col col-3-12\">Voice Input</td><td class=\"URwL2w col col-9-12\"><ul><li class=\"_21lJbe\">Yes</li></ul></td></tr><tr class=\"_1s_Smc row\"><td class=\"_1hKmbr col col-3-12\">Graphics PPI</td><td class=\"URwL2w col col-9-12\"><ul><li class=\"_21lJbe\">268 PPI</li></ul></td></tr><tr class=\"_1s_Smc row\"><td class=\"_1hKmbr col col-3-12\">Predictive Text Input</td><td class=\"URwL2w col col-9-12\"><ul><li class=\"_21lJbe\">Yes</li></ul></td></tr><tr class=\"_1s_Smc row\"><td class=\"_1hKmbr col col-3-12\">Sensors</td><td class=\"URwL2w col col-9-12\"><ul><li class=\"_21lJbe\">Accelerometer, Light Sensor, Proximity Sensor</li></ul></td></tr><tr class=\"_1s_Smc row\"><td class=\"_1hKmbr col col-3-12\">Browser</td><td class=\"URwL2w col col-9-12\"><ul><li class=\"_21lJbe\">Google Chrome</li></ul></td></tr><tr class=\"_1s_Smc row\"><td class=\"_1hKmbr col col-3-12\">Other Features</td><td class=\"URwL2w col col-9-12\"><ul><li class=\"_21lJbe\">Face Unlock, Screen Mirror/Cast</li></ul></td></tr><tr class=\"_1s_Smc row\"><td class=\"_1hKmbr col col-3-12\">GPS Type</td><td class=\"URwL2w col col-9-12\"><ul><li class=\"_21lJbe\">A-GPS</li></ul></td></tr></tbody></table></div>, <div class=\"_3k-BhJ\"><div class=\"flxcaE\">Multimedia Features</div><table class=\"_14cfVK\"><tbody><tr class=\"_1s_Smc row\"><td class=\"_1hKmbr col col-3-12\">Audio Formats</td><td class=\"URwL2w col col-9-12\"><ul><li class=\"_21lJbe\">AAC, MP3, AMR, FLAC, APE</li></ul></td></tr><tr class=\"_1s_Smc row\"><td class=\"_1hKmbr col col-3-12\">Video Formats</td><td class=\"URwL2w col col-9-12\"><ul><li class=\"_21lJbe\">MP4, M4V, MKV, XVID, WAV</li></ul></td></tr></tbody></table></div>, <div class=\"_3k-BhJ\"><div class=\"flxcaE\">Battery &amp; Power Features</div><table class=\"_14cfVK\"><tbody><tr class=\"_1s_Smc row\"><td class=\"_1hKmbr col col-3-12\">Battery Capacity</td><td class=\"URwL2w col col-9-12\"><ul><li class=\"_21lJbe\">5000 mAh</li></ul></td></tr></tbody></table></div>, <div class=\"_3k-BhJ\"><div class=\"flxcaE\">Dimensions</div><table class=\"_14cfVK\"><tbody><tr class=\"_1s_Smc row\"><td class=\"_1hKmbr col col-3-12\">Width</td><td class=\"URwL2w col col-9-12\"><ul><li class=\"_21lJbe\">77.07 mm</li></ul></td></tr><tr class=\"_1s_Smc row\"><td class=\"_1hKmbr col col-3-12\">Height</td><td class=\"URwL2w col col-9-12\"><ul><li class=\"_21lJbe\">164.9 mm</li></ul></td></tr><tr class=\"_1s_Smc row\"><td class=\"_1hKmbr col col-3-12\">Depth</td><td class=\"URwL2w col col-9-12\"><ul><li class=\"_21lJbe\">9 mm</li></ul></td></tr><tr class=\"_1s_Smc row\"><td class=\"_1hKmbr col col-3-12\">Weight</td><td class=\"URwL2w col col-9-12\"><ul><li class=\"_21lJbe\">194 g</li></ul></td></tr></tbody></table></div>, <div class=\"_3k-BhJ\"><div class=\"flxcaE\">Warranty</div><table class=\"_14cfVK\"><tbody><tr class=\"_1s_Smc row\"><td class=\"_1hKmbr col col-3-12\">Warranty Summary</td><td class=\"URwL2w col col-9-12\"><ul><li class=\"_21lJbe\">Brand Warranty of 1 Year Available for Mobile and 6 Months for Accessories</li></ul></td></tr><tr class=\"_1s_Smc row\"><td class=\"_1hKmbr col col-3-12\">Domestic Warranty</td><td class=\"URwL2w col col-9-12\"><ul><li class=\"_21lJbe\">1 Year</li></ul></td></tr></tbody></table></div>]\n",
      "12\n"
     ]
    }
   ],
   "source": [
    "link = 'https://www.flipkart.com/redmi-9i-midnight-black-64-gb/p/itm0e1018dac2627?pid=MOBFV8RYKWQ3HACE&lid=LSTMOBFV8RYKWQ3HACEV2QOWQ&marketplace=FLIPKART&store=tyy%2F4io&srno=b_2_26&otracker=categorytre&fm=organic&iid=fede84cd-6f3f-4341-becd-0eec8cb275d6.MOBFV8RYKWQ3HACE.SEARCH&ppt=browse&ppn=browse'\n",
    "\n",
    "page = requests.get(link) \n",
    "\n",
    "soup = bs(page.content,'html.parser')\n",
    "\n",
    "table = soup.findAll('div' , attrs = {'class' : '_3k-BhJ'})\n",
    "print(table)\n",
    "print(len(table))\n",
    "#table_rows = table.find('tr')\n",
    "#print(table_rows)\n"
   ]
  },
  {
   "cell_type": "code",
   "execution_count": 7,
   "id": "85e61c8b",
   "metadata": {},
   "outputs": [
    {
     "name": "stdout",
     "output_type": "stream",
     "text": [
      "[<div class=\"_3k-BhJ\"><div class=\"flxcaE\">General</div><table class=\"_14cfVK\"><tbody><tr class=\"_1s_Smc row\"><td class=\"_1hKmbr col col-3-12\">In The Box</td><td class=\"URwL2w col col-9-12\"><ul><li class=\"_21lJbe\">Handset, Battery, Charger, User Manual</li></ul></td></tr><tr class=\"_1s_Smc row\"><td class=\"_1hKmbr col col-3-12\">Model Number</td><td class=\"URwL2w col col-9-12\"><ul><li class=\"_21lJbe\">K3312</li></ul></td></tr><tr class=\"_1s_Smc row\"><td class=\"_1hKmbr col col-3-12\">Model Name</td><td class=\"URwL2w col col-9-12\"><ul><li class=\"_21lJbe\">K3312</li></ul></td></tr><tr class=\"_1s_Smc row\"><td class=\"_1hKmbr col col-3-12\">Color</td><td class=\"URwL2w col col-9-12\"><ul><li class=\"_21lJbe\">Yellow</li></ul></td></tr><tr class=\"_1s_Smc row\"><td class=\"_1hKmbr col col-3-12\">Browse Type</td><td class=\"URwL2w col col-9-12\"><ul><li class=\"_21lJbe\">Feature Phones</li></ul></td></tr><tr class=\"_1s_Smc row\"><td class=\"_1hKmbr col col-3-12\">SIM Type</td><td class=\"URwL2w col col-9-12\"><ul><li class=\"_21lJbe\">Dual Sim</li></ul></td></tr><tr class=\"_1s_Smc row\"><td class=\"_1hKmbr col col-3-12\">Hybrid Sim Slot</td><td class=\"URwL2w col col-9-12\"><ul><li class=\"_21lJbe\">No</li></ul></td></tr><tr class=\"_1s_Smc row\"><td class=\"_1hKmbr col col-3-12\">Touchscreen</td><td class=\"URwL2w col col-9-12\"><ul><li class=\"_21lJbe\">No</li></ul></td></tr><tr class=\"_1s_Smc row\"><td class=\"_1hKmbr col col-3-12\">OTG Compatible</td><td class=\"URwL2w col col-9-12\"><ul><li class=\"_21lJbe\">No</li></ul></td></tr></tbody></table></div>, <div class=\"_3k-BhJ\"><div class=\"flxcaE\">Display Features</div><table class=\"_14cfVK\"><tbody><tr class=\"_1s_Smc row\"><td class=\"_1hKmbr col col-3-12\">Display Size</td><td class=\"URwL2w col col-9-12\"><ul><li class=\"_21lJbe\">4.57 cm (1.8 inch)</li></ul></td></tr><tr class=\"_1s_Smc row\"><td class=\"_1hKmbr col col-3-12\">Resolution</td><td class=\"URwL2w col col-9-12\"><ul><li class=\"_21lJbe\">128 x 160 Pixels</li></ul></td></tr></tbody></table></div>, <div class=\"_3k-BhJ\"><div class=\"flxcaE\">Os &amp; Processor Features</div><table class=\"_14cfVK\"><tbody><tr class=\"_1s_Smc row\"><td class=\"_1hKmbr col col-3-12\">Operating System</td><td class=\"URwL2w col col-9-12\"><ul><li class=\"_21lJbe\">0</li></ul></td></tr></tbody></table></div>, <div class=\"_3k-BhJ\"><div class=\"flxcaE\">Memory &amp; Storage Features</div><table class=\"_14cfVK\"><tbody><tr class=\"_1s_Smc row\"><td class=\"_1hKmbr col col-3-12\">Internal Storage</td><td class=\"URwL2w col col-9-12\"><ul><li class=\"_21lJbe\">64 MB</li></ul></td></tr><tr class=\"_1s_Smc row\"><td class=\"_1hKmbr col col-3-12\">RAM</td><td class=\"URwL2w col col-9-12\"><ul><li class=\"_21lJbe\">32 MB</li></ul></td></tr><tr class=\"_1s_Smc row\"><td class=\"_1hKmbr col col-3-12\">Expandable Storage</td><td class=\"URwL2w col col-9-12\"><ul><li class=\"_21lJbe\">8 GB</li></ul></td></tr><tr class=\"_1s_Smc row\"><td class=\"_1hKmbr col col-3-12\">Memory Card Slot Type</td><td class=\"URwL2w col col-9-12\"><ul><li class=\"_21lJbe\">Dedicated Slot</li></ul></td></tr></tbody></table></div>, <div class=\"_3k-BhJ\"><div class=\"flxcaE\">Camera Features</div><table class=\"_14cfVK\"><tbody><tr class=\"_1s_Smc row\"><td class=\"_1hKmbr col col-3-12\">Primary Camera</td><td class=\"URwL2w col col-9-12\"><ul><li class=\"_21lJbe\">0.3MP Rear Camera</li></ul></td></tr></tbody></table></div>, <div class=\"_3k-BhJ\"><div class=\"flxcaE\">Call Features</div><table class=\"_14cfVK\"><tbody><tr class=\"_1s_Smc row\"><td class=\"_1hKmbr col col-3-12\">Call Wait/Hold</td><td class=\"URwL2w col col-9-12\"><ul><li class=\"_21lJbe\">Yes</li></ul></td></tr><tr class=\"_1s_Smc row\"><td class=\"_1hKmbr col col-3-12\">Conference Call</td><td class=\"URwL2w col col-9-12\"><ul><li class=\"_21lJbe\">Yes</li></ul></td></tr><tr class=\"_1s_Smc row\"><td class=\"_1hKmbr col col-3-12\">Call Divert</td><td class=\"URwL2w col col-9-12\"><ul><li class=\"_21lJbe\">Yes</li></ul></td></tr></tbody></table></div>, <div class=\"_3k-BhJ\"><div class=\"flxcaE\">Connectivity Features</div><table class=\"_14cfVK\"><tbody><tr class=\"_1s_Smc row\"><td class=\"_1hKmbr col col-3-12\">Network Type</td><td class=\"URwL2w col col-9-12\"><ul><li class=\"_21lJbe\">2G</li></ul></td></tr><tr class=\"_1s_Smc row\"><td class=\"_1hKmbr col col-3-12\">Supported Networks</td><td class=\"URwL2w col col-9-12\"><ul><li class=\"_21lJbe\">GSM</li></ul></td></tr><tr class=\"_1s_Smc row\"><td class=\"_1hKmbr col col-3-12\">GPRS</td><td class=\"URwL2w col col-9-12\"><ul><li class=\"_21lJbe\">Yes</li></ul></td></tr><tr class=\"_1s_Smc row\"><td class=\"_1hKmbr col col-3-12\">WAP</td><td class=\"URwL2w col col-9-12\"><ul><li class=\"_21lJbe\">Yes</li></ul></td></tr><tr class=\"_1s_Smc row\"><td class=\"_1hKmbr col col-3-12\">Bluetooth Support</td><td class=\"URwL2w col col-9-12\"><ul><li class=\"_21lJbe\">Yes</li></ul></td></tr><tr class=\"_1s_Smc row\"><td class=\"_1hKmbr col col-3-12\">Wi-Fi</td><td class=\"URwL2w col col-9-12\"><ul><li class=\"_21lJbe\">No</li></ul></td></tr><tr class=\"_1s_Smc row\"><td class=\"_1hKmbr col col-3-12\">Wi-Fi Hotspot</td><td class=\"URwL2w col col-9-12\"><ul><li class=\"_21lJbe\">No</li></ul></td></tr><tr class=\"_1s_Smc row\"><td class=\"_1hKmbr col col-3-12\">USB Tethering</td><td class=\"URwL2w col col-9-12\"><ul><li class=\"_21lJbe\">Yes</li></ul></td></tr><tr class=\"_1s_Smc row\"><td class=\"_1hKmbr col col-3-12\">Audio Jack</td><td class=\"URwL2w col col-9-12\"><ul><li class=\"_21lJbe\">3.5 mm</li></ul></td></tr></tbody></table></div>, <div class=\"_3k-BhJ\"><div class=\"flxcaE\">Other Details</div><table class=\"_14cfVK\"><tbody><tr class=\"_1s_Smc row\"><td class=\"_1hKmbr col col-3-12\">Smartphone</td><td class=\"URwL2w col col-9-12\"><ul><li class=\"_21lJbe\">No</li></ul></td></tr><tr class=\"_1s_Smc row\"><td class=\"_1hKmbr col col-3-12\">SIM Size</td><td class=\"URwL2w col col-9-12\"><ul><li class=\"_21lJbe\">Normal SIM</li></ul></td></tr><tr class=\"_1s_Smc row\"><td class=\"_1hKmbr col col-3-12\">Keypad Type</td><td class=\"URwL2w col col-9-12\"><ul><li class=\"_21lJbe\">Alphanumeric</li></ul></td></tr><tr class=\"_1s_Smc row\"><td class=\"_1hKmbr col col-3-12\">Removable Battery</td><td class=\"URwL2w col col-9-12\"><ul><li class=\"_21lJbe\">Yes</li></ul></td></tr><tr class=\"_1s_Smc row\"><td class=\"_1hKmbr col col-3-12\">SMS</td><td class=\"URwL2w col col-9-12\"><ul><li class=\"_21lJbe\">Yes</li></ul></td></tr><tr class=\"_1s_Smc row\"><td class=\"_1hKmbr col col-3-12\">Keypad</td><td class=\"URwL2w col col-9-12\"><ul><li class=\"_21lJbe\">Yes</li></ul></td></tr><tr class=\"_1s_Smc row\"><td class=\"_1hKmbr col col-3-12\">Voice Input</td><td class=\"URwL2w col col-9-12\"><ul><li class=\"_21lJbe\">No</li></ul></td></tr></tbody></table></div>, <div class=\"_3k-BhJ\"><div class=\"flxcaE\">Multimedia Features</div><table class=\"_14cfVK\"><tbody><tr class=\"_1s_Smc row\"><td class=\"_1hKmbr col col-3-12\">FM Radio</td><td class=\"URwL2w col col-9-12\"><ul><li class=\"_21lJbe\">Yes</li></ul></td></tr><tr class=\"_1s_Smc row\"><td class=\"_1hKmbr col col-3-12\">Audio Formats</td><td class=\"URwL2w col col-9-12\"><ul><li class=\"_21lJbe\">MP3</li></ul></td></tr><tr class=\"_1s_Smc row\"><td class=\"_1hKmbr col col-3-12\">Video Formats</td><td class=\"URwL2w col col-9-12\"><ul><li class=\"_21lJbe\">MP4</li></ul></td></tr></tbody></table></div>, <div class=\"_3k-BhJ\"><div class=\"flxcaE\">Battery &amp; Power Features</div><table class=\"_14cfVK\"><tbody><tr class=\"_1s_Smc row\"><td class=\"_1hKmbr col col-3-12\">Battery Capacity</td><td class=\"URwL2w col col-9-12\"><ul><li class=\"_21lJbe\">1000 mAh</li></ul></td></tr><tr class=\"_1s_Smc row\"><td class=\"_1hKmbr col col-3-12\">Battery Type</td><td class=\"URwL2w col col-9-12\"><ul><li class=\"_21lJbe\">Lithium-ion</li></ul></td></tr></tbody></table></div>, <div class=\"_3k-BhJ\"><div class=\"flxcaE\">Warranty</div><table class=\"_14cfVK\"><tbody><tr class=\"_1s_Smc row\"><td class=\"_1hKmbr col col-3-12\">Warranty Summary</td><td class=\"URwL2w col col-9-12\"><ul><li class=\"_21lJbe\">15 Month Manufacturer Warranty</li></ul></td></tr><tr class=\"_1s_Smc row\"><td class=\"_1hKmbr col col-3-12\">Warranty Service Type</td><td class=\"URwL2w col col-9-12\"><ul><li class=\"_21lJbe\">15 Months warranty on the product for which the customer can visit the nearby service center of I KALL or can call our customer care executive at: 0120-4731048 or mail us at:helpdeskcustomercare09@gmail.com</li></ul></td></tr><tr class=\"_1s_Smc row\"><td class=\"_1hKmbr col col-3-12\">Domestic Warranty</td><td class=\"URwL2w col col-9-12\"><ul><li class=\"_21lJbe\">15 Months</li></ul></td></tr></tbody></table></div>]\n",
      "11\n"
     ]
    }
   ],
   "source": [
    "link = 'https://www.flipkart.com/i-kall-k3312/p/itmeyys4xgzzc6pa?pid=MOBEYWGC2HYMGZ5D&lid=LSTMOBEYWGC2HYMGZ5DSGP1EX&marketplace=FLIPKART&store=tyy%2F4io&srno=b_2_28&otracker=categorytre&fm=organic&iid=en_98DDTsSMccmpNuilVrpi8f0mhDPaMtAuZBvsEUOOjNveiPFY4iBrJ1fHnhvLIXVSeNTuAX7TsWJCxN2H%2BbdaKw%3D%3D&ppt=browse&ppn=browse'\n",
    "\n",
    "page = requests.get(link) \n",
    "\n",
    "soup = bs(page.content,'html.parser')\n",
    "\n",
    "table = soup.findAll('div' , attrs = {'class' : '_3k-BhJ'})\n",
    "print(table)\n",
    "print(len(table))\n",
    "#table_rows = table.find('tr')\n",
    "#print(table_rows)\n"
   ]
  },
  {
   "cell_type": "code",
   "execution_count": 8,
   "id": "20273035",
   "metadata": {},
   "outputs": [
    {
     "name": "stdout",
     "output_type": "stream",
     "text": [
      "[<div class=\"_3k-BhJ\"><div class=\"flxcaE\">General</div><table class=\"_14cfVK\"><tbody><tr class=\"_1s_Smc row\"><td class=\"_1hKmbr col col-3-12\">In The Box</td><td class=\"URwL2w col col-9-12\"><ul><li class=\"_21lJbe\">Handset, Battery, Charger, User Manual</li></ul></td></tr><tr class=\"_1s_Smc row\"><td class=\"_1hKmbr col col-3-12\">Model Number</td><td class=\"URwL2w col col-9-12\"><ul><li class=\"_21lJbe\">K3312</li></ul></td></tr><tr class=\"_1s_Smc row\"><td class=\"_1hKmbr col col-3-12\">Model Name</td><td class=\"URwL2w col col-9-12\"><ul><li class=\"_21lJbe\">K3312</li></ul></td></tr><tr class=\"_1s_Smc row\"><td class=\"_1hKmbr col col-3-12\">Color</td><td class=\"URwL2w col col-9-12\"><ul><li class=\"_21lJbe\">Yellow</li></ul></td></tr><tr class=\"_1s_Smc row\"><td class=\"_1hKmbr col col-3-12\">Browse Type</td><td class=\"URwL2w col col-9-12\"><ul><li class=\"_21lJbe\">Feature Phones</li></ul></td></tr><tr class=\"_1s_Smc row\"><td class=\"_1hKmbr col col-3-12\">SIM Type</td><td class=\"URwL2w col col-9-12\"><ul><li class=\"_21lJbe\">Dual Sim</li></ul></td></tr><tr class=\"_1s_Smc row\"><td class=\"_1hKmbr col col-3-12\">Hybrid Sim Slot</td><td class=\"URwL2w col col-9-12\"><ul><li class=\"_21lJbe\">No</li></ul></td></tr><tr class=\"_1s_Smc row\"><td class=\"_1hKmbr col col-3-12\">Touchscreen</td><td class=\"URwL2w col col-9-12\"><ul><li class=\"_21lJbe\">No</li></ul></td></tr><tr class=\"_1s_Smc row\"><td class=\"_1hKmbr col col-3-12\">OTG Compatible</td><td class=\"URwL2w col col-9-12\"><ul><li class=\"_21lJbe\">No</li></ul></td></tr></tbody></table></div>, <div class=\"_3k-BhJ\"><div class=\"flxcaE\">Display Features</div><table class=\"_14cfVK\"><tbody><tr class=\"_1s_Smc row\"><td class=\"_1hKmbr col col-3-12\">Display Size</td><td class=\"URwL2w col col-9-12\"><ul><li class=\"_21lJbe\">4.57 cm (1.8 inch)</li></ul></td></tr><tr class=\"_1s_Smc row\"><td class=\"_1hKmbr col col-3-12\">Resolution</td><td class=\"URwL2w col col-9-12\"><ul><li class=\"_21lJbe\">128 x 160 Pixels</li></ul></td></tr></tbody></table></div>, <div class=\"_3k-BhJ\"><div class=\"flxcaE\">Os &amp; Processor Features</div><table class=\"_14cfVK\"><tbody><tr class=\"_1s_Smc row\"><td class=\"_1hKmbr col col-3-12\">Operating System</td><td class=\"URwL2w col col-9-12\"><ul><li class=\"_21lJbe\">0</li></ul></td></tr></tbody></table></div>, <div class=\"_3k-BhJ\"><div class=\"flxcaE\">Memory &amp; Storage Features</div><table class=\"_14cfVK\"><tbody><tr class=\"_1s_Smc row\"><td class=\"_1hKmbr col col-3-12\">Internal Storage</td><td class=\"URwL2w col col-9-12\"><ul><li class=\"_21lJbe\">64 MB</li></ul></td></tr><tr class=\"_1s_Smc row\"><td class=\"_1hKmbr col col-3-12\">RAM</td><td class=\"URwL2w col col-9-12\"><ul><li class=\"_21lJbe\">32 MB</li></ul></td></tr><tr class=\"_1s_Smc row\"><td class=\"_1hKmbr col col-3-12\">Expandable Storage</td><td class=\"URwL2w col col-9-12\"><ul><li class=\"_21lJbe\">8 GB</li></ul></td></tr><tr class=\"_1s_Smc row\"><td class=\"_1hKmbr col col-3-12\">Memory Card Slot Type</td><td class=\"URwL2w col col-9-12\"><ul><li class=\"_21lJbe\">Dedicated Slot</li></ul></td></tr></tbody></table></div>, <div class=\"_3k-BhJ\"><div class=\"flxcaE\">Camera Features</div><table class=\"_14cfVK\"><tbody><tr class=\"_1s_Smc row\"><td class=\"_1hKmbr col col-3-12\">Primary Camera</td><td class=\"URwL2w col col-9-12\"><ul><li class=\"_21lJbe\">0.3MP Rear Camera</li></ul></td></tr></tbody></table></div>, <div class=\"_3k-BhJ\"><div class=\"flxcaE\">Call Features</div><table class=\"_14cfVK\"><tbody><tr class=\"_1s_Smc row\"><td class=\"_1hKmbr col col-3-12\">Call Wait/Hold</td><td class=\"URwL2w col col-9-12\"><ul><li class=\"_21lJbe\">Yes</li></ul></td></tr><tr class=\"_1s_Smc row\"><td class=\"_1hKmbr col col-3-12\">Conference Call</td><td class=\"URwL2w col col-9-12\"><ul><li class=\"_21lJbe\">Yes</li></ul></td></tr><tr class=\"_1s_Smc row\"><td class=\"_1hKmbr col col-3-12\">Call Divert</td><td class=\"URwL2w col col-9-12\"><ul><li class=\"_21lJbe\">Yes</li></ul></td></tr></tbody></table></div>, <div class=\"_3k-BhJ\"><div class=\"flxcaE\">Connectivity Features</div><table class=\"_14cfVK\"><tbody><tr class=\"_1s_Smc row\"><td class=\"_1hKmbr col col-3-12\">Network Type</td><td class=\"URwL2w col col-9-12\"><ul><li class=\"_21lJbe\">2G</li></ul></td></tr><tr class=\"_1s_Smc row\"><td class=\"_1hKmbr col col-3-12\">Supported Networks</td><td class=\"URwL2w col col-9-12\"><ul><li class=\"_21lJbe\">GSM</li></ul></td></tr><tr class=\"_1s_Smc row\"><td class=\"_1hKmbr col col-3-12\">GPRS</td><td class=\"URwL2w col col-9-12\"><ul><li class=\"_21lJbe\">Yes</li></ul></td></tr><tr class=\"_1s_Smc row\"><td class=\"_1hKmbr col col-3-12\">WAP</td><td class=\"URwL2w col col-9-12\"><ul><li class=\"_21lJbe\">Yes</li></ul></td></tr><tr class=\"_1s_Smc row\"><td class=\"_1hKmbr col col-3-12\">Bluetooth Support</td><td class=\"URwL2w col col-9-12\"><ul><li class=\"_21lJbe\">Yes</li></ul></td></tr><tr class=\"_1s_Smc row\"><td class=\"_1hKmbr col col-3-12\">Wi-Fi</td><td class=\"URwL2w col col-9-12\"><ul><li class=\"_21lJbe\">No</li></ul></td></tr><tr class=\"_1s_Smc row\"><td class=\"_1hKmbr col col-3-12\">Wi-Fi Hotspot</td><td class=\"URwL2w col col-9-12\"><ul><li class=\"_21lJbe\">No</li></ul></td></tr><tr class=\"_1s_Smc row\"><td class=\"_1hKmbr col col-3-12\">USB Tethering</td><td class=\"URwL2w col col-9-12\"><ul><li class=\"_21lJbe\">Yes</li></ul></td></tr><tr class=\"_1s_Smc row\"><td class=\"_1hKmbr col col-3-12\">Audio Jack</td><td class=\"URwL2w col col-9-12\"><ul><li class=\"_21lJbe\">3.5 mm</li></ul></td></tr></tbody></table></div>, <div class=\"_3k-BhJ\"><div class=\"flxcaE\">Other Details</div><table class=\"_14cfVK\"><tbody><tr class=\"_1s_Smc row\"><td class=\"_1hKmbr col col-3-12\">Smartphone</td><td class=\"URwL2w col col-9-12\"><ul><li class=\"_21lJbe\">No</li></ul></td></tr><tr class=\"_1s_Smc row\"><td class=\"_1hKmbr col col-3-12\">SIM Size</td><td class=\"URwL2w col col-9-12\"><ul><li class=\"_21lJbe\">Normal SIM</li></ul></td></tr><tr class=\"_1s_Smc row\"><td class=\"_1hKmbr col col-3-12\">Keypad Type</td><td class=\"URwL2w col col-9-12\"><ul><li class=\"_21lJbe\">Alphanumeric</li></ul></td></tr><tr class=\"_1s_Smc row\"><td class=\"_1hKmbr col col-3-12\">Removable Battery</td><td class=\"URwL2w col col-9-12\"><ul><li class=\"_21lJbe\">Yes</li></ul></td></tr><tr class=\"_1s_Smc row\"><td class=\"_1hKmbr col col-3-12\">SMS</td><td class=\"URwL2w col col-9-12\"><ul><li class=\"_21lJbe\">Yes</li></ul></td></tr><tr class=\"_1s_Smc row\"><td class=\"_1hKmbr col col-3-12\">Keypad</td><td class=\"URwL2w col col-9-12\"><ul><li class=\"_21lJbe\">Yes</li></ul></td></tr><tr class=\"_1s_Smc row\"><td class=\"_1hKmbr col col-3-12\">Voice Input</td><td class=\"URwL2w col col-9-12\"><ul><li class=\"_21lJbe\">No</li></ul></td></tr></tbody></table></div>, <div class=\"_3k-BhJ\"><div class=\"flxcaE\">Multimedia Features</div><table class=\"_14cfVK\"><tbody><tr class=\"_1s_Smc row\"><td class=\"_1hKmbr col col-3-12\">FM Radio</td><td class=\"URwL2w col col-9-12\"><ul><li class=\"_21lJbe\">Yes</li></ul></td></tr><tr class=\"_1s_Smc row\"><td class=\"_1hKmbr col col-3-12\">Audio Formats</td><td class=\"URwL2w col col-9-12\"><ul><li class=\"_21lJbe\">MP3</li></ul></td></tr><tr class=\"_1s_Smc row\"><td class=\"_1hKmbr col col-3-12\">Video Formats</td><td class=\"URwL2w col col-9-12\"><ul><li class=\"_21lJbe\">MP4</li></ul></td></tr></tbody></table></div>, <div class=\"_3k-BhJ\"><div class=\"flxcaE\">Battery &amp; Power Features</div><table class=\"_14cfVK\"><tbody><tr class=\"_1s_Smc row\"><td class=\"_1hKmbr col col-3-12\">Battery Capacity</td><td class=\"URwL2w col col-9-12\"><ul><li class=\"_21lJbe\">1000 mAh</li></ul></td></tr><tr class=\"_1s_Smc row\"><td class=\"_1hKmbr col col-3-12\">Battery Type</td><td class=\"URwL2w col col-9-12\"><ul><li class=\"_21lJbe\">Lithium-ion</li></ul></td></tr></tbody></table></div>, <div class=\"_3k-BhJ\"><div class=\"flxcaE\">Warranty</div><table class=\"_14cfVK\"><tbody><tr class=\"_1s_Smc row\"><td class=\"_1hKmbr col col-3-12\">Warranty Summary</td><td class=\"URwL2w col col-9-12\"><ul><li class=\"_21lJbe\">15 Month Manufacturer Warranty</li></ul></td></tr><tr class=\"_1s_Smc row\"><td class=\"_1hKmbr col col-3-12\">Warranty Service Type</td><td class=\"URwL2w col col-9-12\"><ul><li class=\"_21lJbe\">15 Months warranty on the product for which the customer can visit the nearby service center of I KALL or can call our customer care executive at: 0120-4731048 or mail us at:helpdeskcustomercare09@gmail.com</li></ul></td></tr><tr class=\"_1s_Smc row\"><td class=\"_1hKmbr col col-3-12\">Domestic Warranty</td><td class=\"URwL2w col col-9-12\"><ul><li class=\"_21lJbe\">15 Months</li></ul></td></tr></tbody></table></div>]\n",
      "11\n"
     ]
    }
   ],
   "source": [
    "table = soup.findAll('div' , attrs = {'class' : '_3k-BhJ'})\n",
    "print(table)\n",
    "print(len(table))\n",
    "#table_rows = table.find('tr')\n",
    "#print(table_rows)"
   ]
  },
  {
   "cell_type": "markdown",
   "id": "93f93b85",
   "metadata": {},
   "source": [
    "##### Printing the status code of html to understand the accessibility. If code is in between 200 - 299 then it is scrapable else not"
   ]
  },
  {
   "cell_type": "code",
   "execution_count": 9,
   "id": "4fce20c0",
   "metadata": {},
   "outputs": [],
   "source": [
    "\n",
    "# Creating empty lists for the column features\n",
    "name = [] \n",
    "price = []\n",
    "p_disc = []\n",
    "p_rating = []\n",
    "feature = []\n",
    "review =[]\n",
    "exch = []\n",
    "orig_price = []\n",
    "screensize = []\n",
    "ramt = []\n",
    "cam = []\n",
    "bat = []\n",
    "proc = []\n",
    "\n",
    "\n",
    "# Creating for loop to extract the information from the html tags of html page\n",
    "for item in soup.findAll ('div' , attrs = {'class' : '_2kHMtA'}):\n",
    "    title = item.find ('div' , attrs = {'class' : '_4rR01T'})\n",
    "    cost = item.find ('div' , attrs = { 'class' : '_30jeq3 _1_WHN1'})\n",
    "    oprice = item.find ('div' , attrs = {'class' : '_3I9_wc _27UcVY'})\n",
    "    disc = item. find ('div' ,attrs = { 'class' : '_3Ay6Sb'})\n",
    "    rating = item. find ('div' , attrs = { 'class' : '_3LWZlK'})\n",
    "    war = item. find ('ul' , attrs = {'class': '_1xgFaf'})\n",
    "    rev = item.find ('span', attrs = {'class' : '_13vcmD'})\n",
    "    ex = item.find ('div' , attrs ={'class' : '_3xFhiH'})\n",
    "    specification = item.find('div', attrs={'class':'fMghEO'})\n",
    "    for col in specification:\n",
    "            col=col.find_all('li', attrs={'class':'rgWa7D'})\n",
    "            ram = col[0].text\n",
    "            dsize = col[1].text\n",
    "            ca = col[2].text\n",
    "            ba = col[3].text\n",
    "            pro = col[4].text\n",
    "            \n",
    "   \n",
    "#Appending all the extracted values in the declared empty lists\n",
    "    name.append (title.text)\n",
    "    orig_price.append(oprice)\n",
    "    price.append (cost.text)\n",
    "    p_disc. append (disc)\n",
    "    p_rating.append (rating.text)\n",
    "    feature.append (war.text)\n",
    "    review.append (rev.text)\n",
    "    exch.append (ex)\n",
    "    screensize.append (dsize) \n",
    "    ramt.append (ram) \n",
    "    cam.append (ca)\n",
    "    bat.append (ba)\n",
    "    proc.append (pro)\n",
    "    \n",
    "\n",
    "    \n",
    "  "
   ]
  },
  {
   "cell_type": "code",
   "execution_count": 10,
   "id": "67ae118c",
   "metadata": {},
   "outputs": [],
   "source": [
    "dummy = pd.DataFrame ( { 'Pname' : name , 'orig_price' : orig_price, 'Price' : price , 'Discount' : p_disc , 'Rating' : p_rating ,'reviewnum' : review ,\n",
    "                     'screensize' : screensize,'ram' : ramt, 'camera':cam,' battery':bat,'processor':proc, 'exchangeoffer' : exch })"
   ]
  },
  {
   "cell_type": "code",
   "execution_count": 11,
   "id": "7d45bc92",
   "metadata": {},
   "outputs": [],
   "source": [
    "# saving the dataframe in CSV\n",
    "dummy.to_csv(r'D:\\WebScrapping-Project\\wbrough.csv', index=False)"
   ]
  },
  {
   "cell_type": "code",
   "execution_count": null,
   "id": "9cfb0748",
   "metadata": {},
   "outputs": [],
   "source": []
  },
  {
   "cell_type": "code",
   "execution_count": null,
   "id": "6771df7f",
   "metadata": {},
   "outputs": [],
   "source": []
  },
  {
   "cell_type": "code",
   "execution_count": null,
   "id": "43d0f9a8",
   "metadata": {},
   "outputs": [],
   "source": []
  },
  {
   "cell_type": "code",
   "execution_count": null,
   "id": "e45dfbce",
   "metadata": {},
   "outputs": [],
   "source": []
  },
  {
   "cell_type": "code",
   "execution_count": 12,
   "id": "456eec86",
   "metadata": {},
   "outputs": [
    {
     "ename": "AttributeError",
     "evalue": "'NoneType' object has no attribute 'findAll'",
     "output_type": "error",
     "traceback": [
      "\u001b[1;31m---------------------------------------------------------------------------\u001b[0m",
      "\u001b[1;31mAttributeError\u001b[0m                            Traceback (most recent call last)",
      "\u001b[1;32mC:\\Users\\PRABHA~1\\AppData\\Local\\Temp/ipykernel_18128/2704979719.py\u001b[0m in \u001b[0;36m<module>\u001b[1;34m\u001b[0m\n\u001b[0;32m      3\u001b[0m \u001b[0mtable\u001b[0m \u001b[1;33m=\u001b[0m \u001b[0msoup\u001b[0m\u001b[1;33m.\u001b[0m\u001b[0mfind\u001b[0m\u001b[1;33m(\u001b[0m\u001b[1;34m'div'\u001b[0m\u001b[1;33m,\u001b[0m \u001b[0mattrs\u001b[0m \u001b[1;33m=\u001b[0m \u001b[1;33m{\u001b[0m\u001b[1;34m'id'\u001b[0m\u001b[1;33m:\u001b[0m\u001b[1;34m'catProductCount'\u001b[0m\u001b[1;33m}\u001b[0m\u001b[1;33m)\u001b[0m\u001b[1;33m\u001b[0m\u001b[1;33m\u001b[0m\u001b[0m\n\u001b[0;32m      4\u001b[0m \u001b[1;33m\u001b[0m\u001b[0m\n\u001b[1;32m----> 5\u001b[1;33m for row in table.findAll('div',\n\u001b[0m\u001b[0;32m      6\u001b[0m                          attrs = {'product-row js-product-list centerCardAfterLoadWidgets dp-click-widgets'}):\n\u001b[0;32m      7\u001b[0m     \u001b[0mquote\u001b[0m \u001b[1;33m=\u001b[0m \u001b[1;33m{\u001b[0m\u001b[1;33m}\u001b[0m\u001b[1;33m\u001b[0m\u001b[1;33m\u001b[0m\u001b[0m\n",
      "\u001b[1;31mAttributeError\u001b[0m: 'NoneType' object has no attribute 'findAll'"
     ]
    }
   ],
   "source": [
    "quotes=[]  # a list to store quotes\n",
    "   \n",
    "table = soup.find('div', attrs = {'id':'catProductCount'}) \n",
    "   \n",
    "for row in table.findAll('div',\n",
    "                         attrs = {'product-row js-product-list centerCardAfterLoadWidgets dp-click-widgets'}):\n",
    "    quote = {}\n",
    "    quote['pname'] = row.p.text\n",
    "    quote['price'] = row.span['display-price']\n",
    "    quote['Discount'] = row.span\n",
    "    quote['rating'] = row.p[0]\n",
    "    \n",
    "    quotes.append(quote)"
   ]
  },
  {
   "cell_type": "code",
   "execution_count": null,
   "id": "a6c7bf5f",
   "metadata": {},
   "outputs": [],
   "source": [
    "word = 'geeks@for@geek@s'\n",
    "print(word.rsplit('@', 3))\n"
   ]
  },
  {
   "cell_type": "markdown",
   "id": "8cef19e3",
   "metadata": {},
   "source": [
    "# Testing "
   ]
  },
  {
   "cell_type": "code",
   "execution_count": null,
   "id": "efa81501",
   "metadata": {},
   "outputs": [],
   "source": [
    "!pip install selenium"
   ]
  },
  {
   "cell_type": "code",
   "execution_count": 71,
   "id": "68d79a05",
   "metadata": {},
   "outputs": [],
   "source": [
    "import csv\n",
    "import bs4\n",
    "from bs4 import BeautifulSoup as bs \n",
    "\n",
    "#from selenium import webdriver\n",
    "import pandas as pd\n",
    "import requests"
   ]
  },
  {
   "cell_type": "code",
   "execution_count": 72,
   "id": "3d922108",
   "metadata": {},
   "outputs": [],
   "source": [
    "link = 'https://www.flipkart.com/mobiles/pr?sid=tyy,4io&otracker=categorytree'\n",
    "page = requests.get(link) \n",
    "\n",
    "soup = bs(page.content,'html.parser')\n"
   ]
  },
  {
   "cell_type": "code",
   "execution_count": 73,
   "id": "c401b76e",
   "metadata": {},
   "outputs": [
    {
     "name": "stdout",
     "output_type": "stream",
     "text": [
      "realme C25Y (Metal Grey, 64 GB)\n"
     ]
    }
   ],
   "source": [
    "\n",
    "model = soup.find('div',{'class':\"_4rR01T\"}).text\n",
    "print(model)"
   ]
  },
  {
   "cell_type": "code",
   "execution_count": 74,
   "id": "88131736",
   "metadata": {},
   "outputs": [
    {
     "data": {
      "text/plain": [
       "'4.5'"
      ]
     },
     "execution_count": 74,
     "metadata": {},
     "output_type": "execute_result"
    }
   ],
   "source": [
    "star = soup.find('div',{'class':\"_3LWZlK\"}).text\n",
    "star"
   ]
  },
  {
   "cell_type": "code",
   "execution_count": 75,
   "id": "f3bb8563",
   "metadata": {},
   "outputs": [
    {
     "data": {
      "text/plain": [
       "'69,731 Rating'"
      ]
     },
     "execution_count": 75,
     "metadata": {},
     "output_type": "execute_result"
    }
   ],
   "source": [
    "#This one\n",
    "num_ratings = soup.find('span',{'class':\"_2_R_DZ\"}).text.replace('\\xa0&\\xa0', ' ; ').strip('; 2,438 Reviews') \n",
    "num_ratings"
   ]
  },
  {
   "cell_type": "code",
   "execution_count": 76,
   "id": "4b1f98f4",
   "metadata": {},
   "outputs": [
    {
     "data": {
      "text/plain": [
       "'69,731 Ratings'"
      ]
     },
     "execution_count": 76,
     "metadata": {},
     "output_type": "execute_result"
    }
   ],
   "source": [
    "num_ratings = soup.find('span',{'class':\"_2_R_DZ\"}).text.replace('\\xa0&\\xa0',\" ; \")[0:soup.find('span',{'class':\"_2_R_DZ\"}).text.replace('\\xa0&\\xa0',\" ; \").find(';')].strip()\n",
    "num_ratings"
   ]
  },
  {
   "cell_type": "code",
   "execution_count": 77,
   "id": "979057de",
   "metadata": {},
   "outputs": [
    {
     "data": {
      "text/plain": [
       "'2,438 Reviews'"
      ]
     },
     "execution_count": 77,
     "metadata": {},
     "output_type": "execute_result"
    }
   ],
   "source": [
    "#This one\n",
    "reviews = soup.find('span',{'class':\"_2_R_DZ\"}).text.replace('\\xa0&\\xa0', ' ; ').lstrip('69,731 Ratings ;')\n",
    "reviews"
   ]
  },
  {
   "cell_type": "code",
   "execution_count": 78,
   "id": "c9ab3b64",
   "metadata": {},
   "outputs": [
    {
     "data": {
      "text/plain": [
       "'2,438 Reviews'"
      ]
     },
     "execution_count": 78,
     "metadata": {},
     "output_type": "execute_result"
    }
   ],
   "source": [
    "reviews = soup.find('span',{'class':\"_2_R_DZ\"}).text.replace('\\xa0&\\xa0',\" ; \")[soup.find('span',{'class':\"_2_R_DZ\"}).text.replace('\\xa0&\\xa0',\" ; \").find(';')+1:].strip()\n",
    "reviews"
   ]
  },
  {
   "cell_type": "code",
   "execution_count": 79,
   "id": "ae3f9bd8",
   "metadata": {},
   "outputs": [
    {
     "data": {
      "text/plain": [
       "'4 GB RAM '"
      ]
     },
     "execution_count": 79,
     "metadata": {},
     "output_type": "execute_result"
    }
   ],
   "source": [
    "ram = soup.find('li',{'class':\"rgWa7D\"}).text[0:soup.find('li',{'class':\"rgWa7D\"}).text.find('|')]\n",
    "ram"
   ]
  },
  {
   "cell_type": "code",
   "execution_count": 80,
   "id": "b2c1d6b9",
   "metadata": {},
   "outputs": [
    {
     "data": {
      "text/plain": [
       "'4 GB RAM '"
      ]
     },
     "execution_count": 80,
     "metadata": {},
     "output_type": "execute_result"
    }
   ],
   "source": [
    "ram = soup.find('li',{'class':\"rgWa7D\"}).text[0:soup.find('li',{'class':\"rgWa7D\"}).text.find('|')]\n",
    "ram"
   ]
  },
  {
   "cell_type": "code",
   "execution_count": 81,
   "id": "af33bd09",
   "metadata": {},
   "outputs": [
    {
     "data": {
      "text/plain": [
       "'64 GB ROM'"
      ]
     },
     "execution_count": 81,
     "metadata": {},
     "output_type": "execute_result"
    }
   ],
   "source": [
    "storage = soup.find('li',{'class':\"rgWa7D\"}).text[soup.find('li',{'class':\"rgWa7D\"}).text.find('|')+1:][0:10].strip()\n",
    "storage"
   ]
  },
  {
   "cell_type": "code",
   "execution_count": 82,
   "id": "7fe052c1",
   "metadata": {},
   "outputs": [
    {
     "data": {
      "text/plain": [
       "'4 GB RAM | 64 GB ROM | Expandable Upto 256 GB'"
      ]
     },
     "execution_count": 82,
     "metadata": {},
     "output_type": "execute_result"
    }
   ],
   "source": [
    "full = soup.find('li',{'class':\"rgWa7D\"}).text\n",
    "full"
   ]
  },
  {
   "cell_type": "code",
   "execution_count": 83,
   "id": "63f97445",
   "metadata": {},
   "outputs": [
    {
     "data": {
      "text/plain": [
       "'Expandable Upto 256 GB'"
      ]
     },
     "execution_count": 83,
     "metadata": {},
     "output_type": "execute_result"
    }
   ],
   "source": [
    "#This one\n",
    "expandable = soup.find('li',{'class':\"rgWa7D\"}).text[soup.find('li',{'class':\"rgWa7D\"}).text.find('|')+1:].lstrip('64 GB ROM |')\n",
    "expandable"
   ]
  },
  {
   "cell_type": "code",
   "execution_count": 84,
   "id": "6f36413e",
   "metadata": {},
   "outputs": [
    {
     "data": {
      "text/plain": [
       "'Expandable Upto 256 GB'"
      ]
     },
     "execution_count": 84,
     "metadata": {},
     "output_type": "execute_result"
    }
   ],
   "source": [
    "expandable = soup.find('li',{'class':\"rgWa7D\"}).text[soup.find('li',{'class':\"rgWa7D\"}).text.find('|')+1:][13:]\n",
    "expandable"
   ]
  },
  {
   "cell_type": "code",
   "execution_count": 85,
   "id": "a3e467fc",
   "metadata": {},
   "outputs": [
    {
     "data": {
      "text/plain": [
       "'16.51 cm (6.5 inch) HD+ Display'"
      ]
     },
     "execution_count": 85,
     "metadata": {},
     "output_type": "execute_result"
    }
   ],
   "source": [
    "display = soup.find_all('li')[1].text\n",
    "display"
   ]
  },
  {
   "cell_type": "code",
   "execution_count": 86,
   "id": "f704b823",
   "metadata": {},
   "outputs": [
    {
     "data": {
      "text/plain": [
       "'16.51 cm (6.5 inch) HD+ Display'"
      ]
     },
     "execution_count": 86,
     "metadata": {},
     "output_type": "execute_result"
    }
   ],
   "source": [
    "display = soup.find_all('li')[1].text.strip()\n",
    "display"
   ]
  },
  {
   "cell_type": "code",
   "execution_count": 87,
   "id": "2b651c32",
   "metadata": {},
   "outputs": [
    {
     "data": {
      "text/plain": [
       "'50MP + 2MP + 2MP | 8MP Front Camera'"
      ]
     },
     "execution_count": 87,
     "metadata": {},
     "output_type": "execute_result"
    }
   ],
   "source": [
    "camera = soup.find_all('li')[2].text.strip()\n",
    "camera"
   ]
  },
  {
   "cell_type": "code",
   "execution_count": 88,
   "id": "34e77858",
   "metadata": {},
   "outputs": [
    {
     "data": {
      "text/plain": [
       "'5000 mAh Battery'"
      ]
     },
     "execution_count": 88,
     "metadata": {},
     "output_type": "execute_result"
    }
   ],
   "source": [
    "battery = soup.find_all('li')[3].text\n",
    "battery"
   ]
  },
  {
   "cell_type": "code",
   "execution_count": 89,
   "id": "7389ba63",
   "metadata": {},
   "outputs": [
    {
     "data": {
      "text/plain": [
       "'Unisoc T610 Octa Core Processor'"
      ]
     },
     "execution_count": 89,
     "metadata": {},
     "output_type": "execute_result"
    }
   ],
   "source": [
    "processor = soup.find_all('li')[4].text.strip()\n",
    "processor"
   ]
  },
  {
   "cell_type": "code",
   "execution_count": 90,
   "id": "9ab8796e",
   "metadata": {},
   "outputs": [
    {
     "data": {
      "text/plain": [
       "'1 Year Warranty for Mobile and 6 Months for Accessories'"
      ]
     },
     "execution_count": 90,
     "metadata": {},
     "output_type": "execute_result"
    }
   ],
   "source": [
    "warranty = soup.find_all('li')[5].text.strip()\n",
    "warranty"
   ]
  },
  {
   "cell_type": "code",
   "execution_count": 91,
   "id": "c9abba7b",
   "metadata": {},
   "outputs": [
    {
     "data": {
      "text/plain": [
       "'₹10,999'"
      ]
     },
     "execution_count": 91,
     "metadata": {},
     "output_type": "execute_result"
    }
   ],
   "source": [
    "pri = soup.find('div',{'class':'_30jeq3 _1_WHN1'}).text\n",
    "pri"
   ]
  },
  {
   "cell_type": "code",
   "execution_count": 92,
   "id": "ffbcb75e",
   "metadata": {},
   "outputs": [
    {
     "ename": "IndexError",
     "evalue": "list index out of range",
     "output_type": "error",
     "traceback": [
      "\u001b[1;31m---------------------------------------------------------------------------\u001b[0m",
      "\u001b[1;31mIndexError\u001b[0m                                Traceback (most recent call last)",
      "\u001b[1;32mC:\\Users\\PRABHA~1\\AppData\\Local\\Temp/ipykernel_18128/1131801770.py\u001b[0m in \u001b[0;36m<module>\u001b[1;34m\u001b[0m\n\u001b[0;32m     24\u001b[0m     \u001b[0mcam\u001b[0m\u001b[1;33m=\u001b[0m \u001b[0mitem\u001b[0m\u001b[1;33m.\u001b[0m\u001b[0mfind_all\u001b[0m\u001b[1;33m(\u001b[0m\u001b[1;34m'li'\u001b[0m\u001b[1;33m)\u001b[0m\u001b[1;33m[\u001b[0m\u001b[1;36m2\u001b[0m\u001b[1;33m]\u001b[0m\u001b[1;33m.\u001b[0m\u001b[0mtext\u001b[0m\u001b[1;33m.\u001b[0m\u001b[0mstrip\u001b[0m\u001b[1;33m(\u001b[0m\u001b[1;33m)\u001b[0m\u001b[1;33m\u001b[0m\u001b[1;33m\u001b[0m\u001b[0m\n\u001b[0;32m     25\u001b[0m     \u001b[0mproc\u001b[0m \u001b[1;33m=\u001b[0m\u001b[0mitem\u001b[0m\u001b[1;33m.\u001b[0m\u001b[0mfind_all\u001b[0m\u001b[1;33m(\u001b[0m\u001b[1;34m'li'\u001b[0m\u001b[1;33m)\u001b[0m\u001b[1;33m[\u001b[0m\u001b[1;36m4\u001b[0m\u001b[1;33m]\u001b[0m\u001b[1;33m.\u001b[0m\u001b[0mtext\u001b[0m\u001b[1;33m.\u001b[0m\u001b[0mstrip\u001b[0m\u001b[1;33m(\u001b[0m\u001b[1;33m)\u001b[0m\u001b[1;33m\u001b[0m\u001b[1;33m\u001b[0m\u001b[0m\n\u001b[1;32m---> 26\u001b[1;33m     \u001b[0mwarr\u001b[0m \u001b[1;33m=\u001b[0m \u001b[0mitem\u001b[0m\u001b[1;33m.\u001b[0m\u001b[0mfind_all\u001b[0m\u001b[1;33m(\u001b[0m\u001b[1;34m'li'\u001b[0m\u001b[1;33m)\u001b[0m\u001b[1;33m[\u001b[0m\u001b[1;36m5\u001b[0m\u001b[1;33m]\u001b[0m\u001b[1;33m.\u001b[0m\u001b[0mtext\u001b[0m\u001b[1;33m.\u001b[0m\u001b[0mstrip\u001b[0m\u001b[1;33m(\u001b[0m\u001b[1;33m)\u001b[0m\u001b[1;33m\u001b[0m\u001b[1;33m\u001b[0m\u001b[0m\n\u001b[0m\u001b[0;32m     27\u001b[0m     \u001b[0mpri\u001b[0m \u001b[1;33m=\u001b[0m \u001b[0mitem\u001b[0m\u001b[1;33m.\u001b[0m\u001b[0mfind\u001b[0m\u001b[1;33m(\u001b[0m\u001b[1;34m'div'\u001b[0m\u001b[1;33m,\u001b[0m\u001b[1;33m{\u001b[0m\u001b[1;34m'class'\u001b[0m\u001b[1;33m:\u001b[0m\u001b[1;34m'_30jeq3 _1_WHN1'\u001b[0m\u001b[1;33m}\u001b[0m\u001b[1;33m)\u001b[0m\u001b[1;33m\u001b[0m\u001b[1;33m\u001b[0m\u001b[0m\n\u001b[0;32m     28\u001b[0m \u001b[1;33m\u001b[0m\u001b[0m\n",
      "\u001b[1;31mIndexError\u001b[0m: list index out of range"
     ]
    }
   ],
   "source": [
    "model = []\n",
    "star = []\n",
    "#reviews ={}\n",
    "num_ratings =[]\n",
    "ram = []\n",
    "storage= []\n",
    "expandable = []\n",
    "display =[]\n",
    "camera = []\n",
    "processor = []\n",
    "warranty =[]\n",
    "#price = []\n",
    "\n",
    "\n",
    "for item in soup.findAll('a', {'class' : '_1fQZEK'}):\n",
    "    mod = item.find('div',{'class':\"_4rR01T\"}).text\n",
    "    st = item.find('div',{'class':\"_3LWZlK\"}).text\n",
    "    re = item.find('span',{'class':\"_2_R_DZ\"}).text.replace('\\xa0&\\xa0', ' ; ').lstrip('69,731 Ratings ;')\n",
    "    ratings = item.find('span',{'class':\"_2_R_DZ\"}).text.replace('\\xa0&\\xa0', ' ; ').strip('; 2,438 Reviews') \n",
    "    ra = item.find('li',{'class':\"rgWa7D\"}).text[0:soup.find('li',{'class':\"rgWa7D\"}).text.find('|')]\n",
    "    stor = item.find('li',{'class':\"rgWa7D\"}).text[soup.find('li',{'class':\"rgWa7D\"}).text.find('|')+1:][0:10].strip()\n",
    "    expa = item.find('li',{'class':\"rgWa7D\"}).text[soup.find('li',{'class':\"rgWa7D\"}).text.find('|')+1:].lstrip('64 GB ROM |')\n",
    "    dis = item.find_all('li')[1].text\n",
    "    cam= item.find_all('li')[2].text.strip()\n",
    "    proc =item.find_all('li')[4].text.strip()\n",
    "    warr = item.find_all('li')[5].text.strip()\n",
    "    pri = item.find('div',{'class':'_30jeq3 _1_WHN1'})\n",
    "    \n",
    "    model.append(mod)\n",
    "    star.append(st)\n",
    "    #reviews.append(re)\n",
    "    num_ratings.append(ratings)\n",
    "    ram.append(ra)\n",
    "    storage.append(stor)\n",
    "    expandable.append(expa)\n",
    "    display.append(dis)\n",
    "    camera.append(cam)\n",
    "    processor.append(proc)\n",
    "    warranty.append(warr)\n",
    "    price.append(pri)\n",
    "\n",
    "print(len(price))"
   ]
  },
  {
   "cell_type": "code",
   "execution_count": 93,
   "id": "21f9bb9d",
   "metadata": {},
   "outputs": [
    {
     "name": "stdout",
     "output_type": "stream",
     "text": [
      "1 year manufacturing warranty for mobile and 6 months for box accessories\n"
     ]
    }
   ],
   "source": [
    "print(proc)"
   ]
  },
  {
   "cell_type": "code",
   "execution_count": null,
   "id": "e7ea588d",
   "metadata": {},
   "outputs": [],
   "source": [
    "record_list = []\n",
    "results = soup.find_all ('a', {'class' : '_1fQZEK'})\n",
    "for item in results :\n",
    "    \n",
    "    record_list.append(extract_phone_model_info(item))\n",
    "    "
   ]
  },
  {
   "cell_type": "raw",
   "id": "c3e43579",
   "metadata": {},
   "source": []
  },
  {
   "cell_type": "code",
   "execution_count": null,
   "id": "0aa40f46",
   "metadata": {},
   "outputs": [],
   "source": []
  }
 ],
 "metadata": {
  "kernelspec": {
   "display_name": "Python 3 (ipykernel)",
   "language": "python",
   "name": "python3"
  },
  "language_info": {
   "codemirror_mode": {
    "name": "ipython",
    "version": 3
   },
   "file_extension": ".py",
   "mimetype": "text/x-python",
   "name": "python",
   "nbconvert_exporter": "python",
   "pygments_lexer": "ipython3",
   "version": "3.9.7"
  }
 },
 "nbformat": 4,
 "nbformat_minor": 5
}
